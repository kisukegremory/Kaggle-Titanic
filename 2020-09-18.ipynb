{
 "cells": [
  {
   "cell_type": "code",
   "execution_count": 684,
   "metadata": {},
   "outputs": [],
   "source": [
    "import pandas as pd\n",
    "import numpy as np\n",
    "import os\n",
    "import matplotlib.pyplot as plt\n",
    "%matplotlib inline\n",
    "import seaborn as sns\n",
    "plt.style.use('fivethirtyeight')\n",
    "sns.set(palette='pastel')\n",
    "from datetime import datetime\n",
    "from sklearn.model_selection import GridSearchCV, RandomizedSearchCV\n",
    "import warnings\n",
    "\n",
    "warnings.filterwarnings(\"ignore\")\n"
   ]
  },
  {
   "cell_type": "code",
   "execution_count": 685,
   "metadata": {},
   "outputs": [
    {
     "name": "stdout",
     "output_type": "stream",
     "text": [
      "(1309, 12)\n"
     ]
    },
    {
     "data": {
      "text/html": [
       "<div>\n",
       "<style scoped>\n",
       "    .dataframe tbody tr th:only-of-type {\n",
       "        vertical-align: middle;\n",
       "    }\n",
       "\n",
       "    .dataframe tbody tr th {\n",
       "        vertical-align: top;\n",
       "    }\n",
       "\n",
       "    .dataframe thead th {\n",
       "        text-align: right;\n",
       "    }\n",
       "</style>\n",
       "<table border=\"1\" class=\"dataframe\">\n",
       "  <thead>\n",
       "    <tr style=\"text-align: right;\">\n",
       "      <th></th>\n",
       "      <th>Survived</th>\n",
       "      <th>Pclass</th>\n",
       "      <th>Name</th>\n",
       "      <th>Sex</th>\n",
       "      <th>Age</th>\n",
       "      <th>SibSp</th>\n",
       "      <th>Parch</th>\n",
       "      <th>Ticket</th>\n",
       "      <th>Fare</th>\n",
       "      <th>Cabin</th>\n",
       "      <th>Embarked</th>\n",
       "      <th>Separation</th>\n",
       "    </tr>\n",
       "    <tr>\n",
       "      <th>PassengerId</th>\n",
       "      <th></th>\n",
       "      <th></th>\n",
       "      <th></th>\n",
       "      <th></th>\n",
       "      <th></th>\n",
       "      <th></th>\n",
       "      <th></th>\n",
       "      <th></th>\n",
       "      <th></th>\n",
       "      <th></th>\n",
       "      <th></th>\n",
       "      <th></th>\n",
       "    </tr>\n",
       "  </thead>\n",
       "  <tbody>\n",
       "    <tr>\n",
       "      <th>1</th>\n",
       "      <td>0.0</td>\n",
       "      <td>3</td>\n",
       "      <td>Braund, Mr. Owen Harris</td>\n",
       "      <td>male</td>\n",
       "      <td>22.0</td>\n",
       "      <td>1</td>\n",
       "      <td>0</td>\n",
       "      <td>A/5 21171</td>\n",
       "      <td>7.2500</td>\n",
       "      <td>NaN</td>\n",
       "      <td>S</td>\n",
       "      <td>train</td>\n",
       "    </tr>\n",
       "    <tr>\n",
       "      <th>2</th>\n",
       "      <td>1.0</td>\n",
       "      <td>1</td>\n",
       "      <td>Cumings, Mrs. John Bradley (Florence Briggs Th...</td>\n",
       "      <td>female</td>\n",
       "      <td>38.0</td>\n",
       "      <td>1</td>\n",
       "      <td>0</td>\n",
       "      <td>PC 17599</td>\n",
       "      <td>71.2833</td>\n",
       "      <td>C85</td>\n",
       "      <td>C</td>\n",
       "      <td>train</td>\n",
       "    </tr>\n",
       "  </tbody>\n",
       "</table>\n",
       "</div>"
      ],
      "text/plain": [
       "             Survived  Pclass  \\\n",
       "PassengerId                     \n",
       "1                 0.0       3   \n",
       "2                 1.0       1   \n",
       "\n",
       "                                                          Name     Sex   Age  \\\n",
       "PassengerId                                                                    \n",
       "1                                      Braund, Mr. Owen Harris    male  22.0   \n",
       "2            Cumings, Mrs. John Bradley (Florence Briggs Th...  female  38.0   \n",
       "\n",
       "             SibSp  Parch     Ticket     Fare Cabin Embarked Separation  \n",
       "PassengerId                                                              \n",
       "1                1      0  A/5 21171   7.2500   NaN        S      train  \n",
       "2                1      0   PC 17599  71.2833   C85        C      train  "
      ]
     },
     "execution_count": 685,
     "metadata": {},
     "output_type": "execute_result"
    }
   ],
   "source": [
    "train_set = pd.read_csv('Bases/train.csv')\n",
    "train_set['Separation'] = \"train\"\n",
    "test_set = pd.read_csv('Bases/test.csv')\n",
    "test_set['Separation'] = \"test\"\n",
    "df = train_set.append(test_set).set_index(\"PassengerId\")\n",
    "print(df.shape)\n",
    "df.head(2)"
   ]
  },
  {
   "cell_type": "code",
   "execution_count": 686,
   "metadata": {},
   "outputs": [],
   "source": [
    "# Ticket - Pessoas na mesma Ca\n"
   ]
  },
  {
   "cell_type": "markdown",
   "metadata": {},
   "source": [
    "# Feature Cleaning and engineering\n",
    "---\n",
    "Podemos começar o desenvolvimento utilizando as features que tenham todos os dados preenchidos e após isso seguimos das que faltam menos para as que faltam mais"
   ]
  },
  {
   "cell_type": "code",
   "execution_count": 687,
   "metadata": {},
   "outputs": [
    {
     "name": "stdout",
     "output_type": "stream",
     "text": [
      "Features sem nenhum dado faltante :  ['Pclass' 'Name' 'Sex' 'SibSp' 'Parch' 'Ticket' 'Separation']\n",
      "Features com dados faltantes : \n"
     ]
    },
    {
     "data": {
      "image/png": "[encoded data removed]",
      "text/plain": [
       "<Figure size 1152x216 with 1 Axes>"
      ]
     },
     "metadata": {},
     "output_type": "display_data"
    }
   ],
   "source": [
    "print(\"Features sem nenhum dado faltante : \",df.columns[df.isna().any() == False].values)\n",
    "print(\"Features com dados faltantes : \",)\n",
    "missing_features = (df.drop(\"Survived\",axis=1).isna().sum().sort_values(ascending=True)/df.shape[0]*100).round(4)\n",
    "missing_features = missing_features[missing_features > 0]\n",
    "plt.figure(figsize=(16,3))\n",
    "sns.barplot(x=missing_features.index,y=missing_features.values,estimator=sum)\n",
    "plt.show()"
   ]
  },
  {
   "cell_type": "code",
   "execution_count": 688,
   "metadata": {},
   "outputs": [],
   "source": [
    "# f, axs = plt.subplots(2,1,figsize=(15,4),sharex=True)\n",
    "# train_missing_features = (train_set[train_set.columns[train_set.isna().any() == True]].isna().sum()/train_set.shape[0]).sort_values()\n",
    "# sns.barplot(x=train_missing_features.index,y=train_missing_features.values,estimator=sum,ax=axs[0])\n",
    "# test_missing_features = (test_set[test_set.columns[test_set.isna().any() == True]].isna().sum()/test_set.shape[0]).sort_values()\n",
    "# sns.barplot(x=test_missing_features.index,y=test_missing_features.values,estimator=sum,ax=axs[1])"
   ]
  },
  {
   "cell_type": "markdown",
   "metadata": {
    "heading_collapsed": true
   },
   "source": [
    "## Cabin\n",
    "---"
   ]
  },
  {
   "cell_type": "code",
   "execution_count": 689,
   "metadata": {
    "hidden": true
   },
   "outputs": [
    {
     "data": {
      "text/plain": [
       "<matplotlib.axes._subplots.AxesSubplot at 0x22f6c025408>"
      ]
     },
     "execution_count": 689,
     "metadata": {},
     "output_type": "execute_result"
    },
    {
     "data": {
      "image/png": "[encoded data removed]",
      "text/plain": [
       "<Figure size 1080x288 with 2 Axes>"
      ]
     },
     "metadata": {},
     "output_type": "display_data"
    }
   ],
   "source": [
    "#df['Cabin_spaces']\n",
    "df['Cabin_null'] = df['Cabin'].isna().astype(int)\n",
    "f, axs = plt.subplots(1,2,figsize=(15,4))\n",
    "sns.barplot(data=df,x='Cabin_null',y='Survived',ax=axs[0])\n",
    "sns.countplot(data=df,x='Cabin_null',hue='Separation',ax=axs[1],color='purple')"
   ]
  },
  {
   "cell_type": "code",
   "execution_count": 690,
   "metadata": {
    "hidden": true
   },
   "outputs": [],
   "source": [
    "#df[df.Ticket.duplicated(keep=False)].sort_values(['Pclass',\"Ticket\"]).iloc[30:40,:]"
   ]
  },
  {
   "cell_type": "code",
   "execution_count": 691,
   "metadata": {
    "hidden": true
   },
   "outputs": [],
   "source": [
    "#df['Ticket_buy_order'] = df['Ticket'].apply(lambda x: int(str(x)[1:]))"
   ]
  },
  {
   "cell_type": "code",
   "execution_count": 692,
   "metadata": {
    "hidden": true
   },
   "outputs": [],
   "source": [
    "#df.query(\"Ticket_isnumeric == False\").sort_values(\"Ticket\").iloc[60:90,:]"
   ]
  },
  {
   "cell_type": "code",
   "execution_count": null,
   "metadata": {
    "hidden": true
   },
   "outputs": [],
   "source": []
  },
  {
   "cell_type": "code",
   "execution_count": null,
   "metadata": {
    "hidden": true
   },
   "outputs": [],
   "source": []
  },
  {
   "cell_type": "markdown",
   "metadata": {
    "heading_collapsed": true
   },
   "source": [
    "## Tickets\n",
    "---\n",
    "Como ideias para tickets a serem investigadas:\n",
    "- Pode haver uma diferença entre os tickets numéricos e não numéricos\n",
    "- a quantidade de caracteres pode indicar algo\n",
    "- a quantidade de tickets iguais\n",
    "- O inicio do ticket parece ser o numero da classe + os especiais\n",
    "- Após o primeiro número ou parte não númerica, é a ordem em que foi adquirido o ticket\n"
   ]
  },
  {
   "cell_type": "markdown",
   "metadata": {
    "heading_collapsed": true,
    "hidden": true
   },
   "source": [
    "### Se é Numérico\n",
    "---\n",
    "Aparentemente não tem influência significativa entre as categorias"
   ]
  },
  {
   "cell_type": "code",
   "execution_count": 693,
   "metadata": {
    "hidden": true
   },
   "outputs": [
    {
     "data": {
      "image/png": "[encoded data removed]",
      "text/plain": [
       "<Figure size 1080x288 with 2 Axes>"
      ]
     },
     "metadata": {},
     "output_type": "display_data"
    }
   ],
   "source": [
    "df['Ticket_isnumeric'] = (df['Ticket'].apply(lambda x: str(x)[0].isnumeric())).astype(int)\n",
    "f, axs = plt.subplots(1,2,figsize=(15,4))\n",
    "sns.barplot(data=df,x='Ticket_isnumeric',y='Survived',ax=axs[0])\n",
    "sns.countplot(df['Ticket_isnumeric'],ax=axs[1])\n",
    "\n",
    "plt.show()\n",
    "df.drop(['Ticket_isnumeric'],axis=1,inplace=True)"
   ]
  },
  {
   "cell_type": "markdown",
   "metadata": {
    "heading_collapsed": true,
    "hidden": true
   },
   "source": [
    "### Primeiro caracter X Pclass\n",
    "---\n",
    "Não há diferença significativa entre as categorias"
   ]
  },
  {
   "cell_type": "code",
   "execution_count": 694,
   "metadata": {
    "hidden": true,
    "scrolled": true
   },
   "outputs": [
    {
     "data": {
      "text/html": [
       "<div>\n",
       "<style scoped>\n",
       "    .dataframe tbody tr th:only-of-type {\n",
       "        vertical-align: middle;\n",
       "    }\n",
       "\n",
       "    .dataframe tbody tr th {\n",
       "        vertical-align: top;\n",
       "    }\n",
       "\n",
       "    .dataframe thead th {\n",
       "        text-align: right;\n",
       "    }\n",
       "</style>\n",
       "<table border=\"1\" class=\"dataframe\">\n",
       "  <thead>\n",
       "    <tr style=\"text-align: right;\">\n",
       "      <th></th>\n",
       "      <th></th>\n",
       "      <th>Ticket</th>\n",
       "      <th>Survived</th>\n",
       "    </tr>\n",
       "    <tr>\n",
       "      <th>Ticket_firstchar</th>\n",
       "      <th>Pclass</th>\n",
       "      <th></th>\n",
       "      <th></th>\n",
       "    </tr>\n",
       "  </thead>\n",
       "  <tbody>\n",
       "    <tr>\n",
       "      <th rowspan=\"3\" valign=\"top\">1</th>\n",
       "      <th>1</th>\n",
       "      <td>193</td>\n",
       "      <td>0.641221</td>\n",
       "    </tr>\n",
       "    <tr>\n",
       "      <th>2</th>\n",
       "      <td>3</td>\n",
       "      <td>0.000000</td>\n",
       "    </tr>\n",
       "    <tr>\n",
       "      <th>3</th>\n",
       "      <td>14</td>\n",
       "      <td>0.666667</td>\n",
       "    </tr>\n",
       "    <tr>\n",
       "      <th rowspan=\"3\" valign=\"top\">2</th>\n",
       "      <th>1</th>\n",
       "      <td>8</td>\n",
       "      <td>1.000000</td>\n",
       "    </tr>\n",
       "    <tr>\n",
       "      <th>2</th>\n",
       "      <td>176</td>\n",
       "      <td>0.487395</td>\n",
       "    </tr>\n",
       "    <tr>\n",
       "      <th>3</th>\n",
       "      <td>94</td>\n",
       "      <td>0.383333</td>\n",
       "    </tr>\n",
       "    <tr>\n",
       "      <th rowspan=\"3\" valign=\"top\">3</th>\n",
       "      <th>1</th>\n",
       "      <td>18</td>\n",
       "      <td>0.571429</td>\n",
       "    </tr>\n",
       "    <tr>\n",
       "      <th>2</th>\n",
       "      <td>5</td>\n",
       "      <td>0.600000</td>\n",
       "    </tr>\n",
       "    <tr>\n",
       "      <th>3</th>\n",
       "      <td>406</td>\n",
       "      <td>0.216312</td>\n",
       "    </tr>\n",
       "    <tr>\n",
       "      <th>4</th>\n",
       "      <th>3</th>\n",
       "      <td>11</td>\n",
       "      <td>0.200000</td>\n",
       "    </tr>\n",
       "    <tr>\n",
       "      <th rowspan=\"2\" valign=\"top\">5</th>\n",
       "      <th>1</th>\n",
       "      <td>1</td>\n",
       "      <td>0.000000</td>\n",
       "    </tr>\n",
       "    <tr>\n",
       "      <th>3</th>\n",
       "      <td>2</td>\n",
       "      <td>0.000000</td>\n",
       "    </tr>\n",
       "    <tr>\n",
       "      <th rowspan=\"2\" valign=\"top\">6</th>\n",
       "      <th>1</th>\n",
       "      <td>4</td>\n",
       "      <td>0.000000</td>\n",
       "    </tr>\n",
       "    <tr>\n",
       "      <th>3</th>\n",
       "      <td>5</td>\n",
       "      <td>0.250000</td>\n",
       "    </tr>\n",
       "    <tr>\n",
       "      <th>7</th>\n",
       "      <th>3</th>\n",
       "      <td>13</td>\n",
       "      <td>0.111111</td>\n",
       "    </tr>\n",
       "    <tr>\n",
       "      <th>8</th>\n",
       "      <th>3</th>\n",
       "      <td>2</td>\n",
       "      <td>0.000000</td>\n",
       "    </tr>\n",
       "    <tr>\n",
       "      <th>9</th>\n",
       "      <th>3</th>\n",
       "      <td>2</td>\n",
       "      <td>1.000000</td>\n",
       "    </tr>\n",
       "    <tr>\n",
       "      <th>A</th>\n",
       "      <th>3</th>\n",
       "      <td>42</td>\n",
       "      <td>0.068966</td>\n",
       "    </tr>\n",
       "    <tr>\n",
       "      <th rowspan=\"2\" valign=\"top\">C</th>\n",
       "      <th>2</th>\n",
       "      <td>34</td>\n",
       "      <td>0.450000</td>\n",
       "    </tr>\n",
       "    <tr>\n",
       "      <th>3</th>\n",
       "      <td>43</td>\n",
       "      <td>0.259259</td>\n",
       "    </tr>\n",
       "    <tr>\n",
       "      <th rowspan=\"3\" valign=\"top\">F</th>\n",
       "      <th>1</th>\n",
       "      <td>3</td>\n",
       "      <td>0.000000</td>\n",
       "    </tr>\n",
       "    <tr>\n",
       "      <th>2</th>\n",
       "      <td>9</td>\n",
       "      <td>0.800000</td>\n",
       "    </tr>\n",
       "    <tr>\n",
       "      <th>3</th>\n",
       "      <td>1</td>\n",
       "      <td>0.000000</td>\n",
       "    </tr>\n",
       "    <tr>\n",
       "      <th>L</th>\n",
       "      <th>3</th>\n",
       "      <td>5</td>\n",
       "      <td>0.250000</td>\n",
       "    </tr>\n",
       "    <tr>\n",
       "      <th rowspan=\"3\" valign=\"top\">P</th>\n",
       "      <th>1</th>\n",
       "      <td>92</td>\n",
       "      <td>0.650000</td>\n",
       "    </tr>\n",
       "    <tr>\n",
       "      <th>2</th>\n",
       "      <td>2</td>\n",
       "      <td>0.500000</td>\n",
       "    </tr>\n",
       "    <tr>\n",
       "      <th>3</th>\n",
       "      <td>4</td>\n",
       "      <td>0.666667</td>\n",
       "    </tr>\n",
       "    <tr>\n",
       "      <th rowspan=\"2\" valign=\"top\">S</th>\n",
       "      <th>2</th>\n",
       "      <td>43</td>\n",
       "      <td>0.407407</td>\n",
       "    </tr>\n",
       "    <tr>\n",
       "      <th>3</th>\n",
       "      <td>55</td>\n",
       "      <td>0.263158</td>\n",
       "    </tr>\n",
       "    <tr>\n",
       "      <th rowspan=\"3\" valign=\"top\">W</th>\n",
       "      <th>1</th>\n",
       "      <td>4</td>\n",
       "      <td>0.333333</td>\n",
       "    </tr>\n",
       "    <tr>\n",
       "      <th>2</th>\n",
       "      <td>5</td>\n",
       "      <td>0.333333</td>\n",
       "    </tr>\n",
       "    <tr>\n",
       "      <th>3</th>\n",
       "      <td>10</td>\n",
       "      <td>0.000000</td>\n",
       "    </tr>\n",
       "  </tbody>\n",
       "</table>\n",
       "</div>"
      ],
      "text/plain": [
       "                         Ticket  Survived\n",
       "Ticket_firstchar Pclass                  \n",
       "1                1          193  0.641221\n",
       "                 2            3  0.000000\n",
       "                 3           14  0.666667\n",
       "2                1            8  1.000000\n",
       "                 2          176  0.487395\n",
       "                 3           94  0.383333\n",
       "3                1           18  0.571429\n",
       "                 2            5  0.600000\n",
       "                 3          406  0.216312\n",
       "4                3           11  0.200000\n",
       "5                1            1  0.000000\n",
       "                 3            2  0.000000\n",
       "6                1            4  0.000000\n",
       "                 3            5  0.250000\n",
       "7                3           13  0.111111\n",
       "8                3            2  0.000000\n",
       "9                3            2  1.000000\n",
       "A                3           42  0.068966\n",
       "C                2           34  0.450000\n",
       "                 3           43  0.259259\n",
       "F                1            3  0.000000\n",
       "                 2            9  0.800000\n",
       "                 3            1  0.000000\n",
       "L                3            5  0.250000\n",
       "P                1           92  0.650000\n",
       "                 2            2  0.500000\n",
       "                 3            4  0.666667\n",
       "S                2           43  0.407407\n",
       "                 3           55  0.263158\n",
       "W                1            4  0.333333\n",
       "                 2            5  0.333333\n",
       "                 3           10  0.000000"
      ]
     },
     "execution_count": 694,
     "metadata": {},
     "output_type": "execute_result"
    }
   ],
   "source": [
    "df['Ticket_firstchar'] = (df['Ticket'].apply(lambda x: str(x)[0]))\n",
    "df.groupby(['Ticket_firstchar','Pclass']).agg({\n",
    "    'Ticket':'count',\n",
    "    'Survived':'mean'\n",
    "})"
   ]
  },
  {
   "cell_type": "markdown",
   "metadata": {
    "hidden": true
   },
   "source": [
    "Aparentemente a maior parte dos tickets de cada classe começam com o número da classe, mas as médias não diferenciam tanto uma da outra"
   ]
  },
  {
   "cell_type": "code",
   "execution_count": 695,
   "metadata": {
    "hidden": true
   },
   "outputs": [
    {
     "data": {
      "image/png": "[encoded data removed]",
      "text/plain": [
       "<Figure size 1080x288 with 2 Axes>"
      ]
     },
     "metadata": {},
     "output_type": "display_data"
    }
   ],
   "source": [
    "df['Tickets_isPclass'] = (df['Pclass'].astype(str) == df['Ticket_firstchar'])\n",
    "\n",
    "f, axs = plt.subplots(1,2,figsize=(15,4))\n",
    "sns.barplot(data=df,x='Tickets_isPclass',y='Survived',ax=axs[0])\n",
    "sns.countplot(df['Tickets_isPclass'],ax=axs[1],color='purple')\n",
    "plt.show()\n",
    "df.drop(['Ticket_firstchar'],axis=1,inplace=True)"
   ]
  },
  {
   "cell_type": "markdown",
   "metadata": {
    "heading_collapsed": true,
    "hidden": true
   },
   "source": [
    "### Número de caracteres\n",
    "---\n",
    "Conseguimos chegar a uma feature mais interessante quando utilizamos a técnica de clusterização para reduzir a quantidade de valores possíveis, leva a evitar um possível overfit no modelo"
   ]
  },
  {
   "cell_type": "code",
   "execution_count": 696,
   "metadata": {
    "hidden": true
   },
   "outputs": [],
   "source": [
    "from sklearn.metrics import silhouette_score\n",
    "from sklearn.cluster import KMeans"
   ]
  },
  {
   "cell_type": "code",
   "execution_count": 697,
   "metadata": {
    "hidden": true
   },
   "outputs": [],
   "source": [
    "class series_cluster:\n",
    "    def __init__(self,series):\n",
    "        self.data = series\n",
    "    def mostra_grafico(self):\n",
    "        inertias = self.calcular_inertias()\n",
    "        plt.figure(figsize=(16,5))\n",
    "        sns.lineplot(x=inertias[:,0],y=inertias[:,1])\n",
    "    def retorna_clusters(self):\n",
    "        cluster_array = self.data\n",
    "        cluster_array['clusters'] = self.best_cluster_fit()\n",
    "        series_name = cluster_array.columns[0]\n",
    "        cluster_order = cluster_array.groupby('clusters')[series_name].mean().reset_index().sort_values(series_name,ascending=True).reset_index(drop=True).reset_index()\n",
    "        cluster_order.set_index('clusters',inplace=True)\n",
    "        cluster_array['clusters'] = cluster_array['clusters'].map(cluster_order['index'])\n",
    "        return cluster_array['clusters']    \n",
    "    def best_cluster_fit(self):\n",
    "        inertias = self.calcular_inertias()\n",
    "        melhor_n_cluster = self.n_otimo_clusters(inertias)\n",
    "        kmeans = KMeans(n_clusters=melhor_n_cluster)\n",
    "        kmeans.fit(self.data)\n",
    "        return kmeans.labels_\n",
    "    def calcular_inertias(self):\n",
    "        inertias = []\n",
    "        for cluster in range(2,15):\n",
    "            kmeans = KMeans(n_clusters=cluster,random_state=7)\n",
    "            kmeans.fit(self.data)\n",
    "            inertias.append([cluster,kmeans.inertia_])\n",
    "        inertias = np.array(inertias)\n",
    "        return inertias\n",
    "    def n_otimo_clusters(self,inertias):\n",
    "        x_min,y_min = inertias[0,0],inertias[0,1] \n",
    "        x_max,y_max = inertias[-1,0],inertias[-1,1]\n",
    "        distancia = []\n",
    "        for i in range(0,len(inertias[:,0])):\n",
    "            x,y = inertias[i,0], inertias[i,1]\n",
    "            numerador = abs((y_max - y_min)*x - (x_max - x_min)*y + x_max*y_min - y_max*x_min)\n",
    "            denominador = np.sqrt((y_max - y_min)**2 + (x_max - x_min)**2)\n",
    "            distancia.append(numerador/denominador)\n",
    "        distancia_df = {\n",
    "            'clusters':inertias[:,0],\n",
    "            'distancia':distancia\n",
    "        }\n",
    "        rank_clusters = pd.DataFrame(distancia_df)\n",
    "        print('melhor cluster: ',int(rank_clusters.loc[rank_clusters['distancia'].idxmax(),'clusters']))\n",
    "        #print(rank_clusters)\n",
    "        return int(rank_clusters.loc[rank_clusters['distancia'].idxmax(),'clusters'])\n"
   ]
  },
  {
   "cell_type": "code",
   "execution_count": 698,
   "metadata": {
    "hidden": true
   },
   "outputs": [
    {
     "data": {
      "image/png": "[encoded data removed]",
      "text/plain": [
       "<Figure size 1080x216 with 2 Axes>"
      ]
     },
     "metadata": {},
     "output_type": "display_data"
    },
    {
     "data": {
      "image/png": "[encoded data removed]",
      "text/plain": [
       "<Figure size 1080x216 with 2 Axes>"
      ]
     },
     "metadata": {},
     "output_type": "display_data"
    },
    {
     "name": "stdout",
     "output_type": "stream",
     "text": [
      "melhor cluster:  5\n"
     ]
    },
    {
     "data": {
      "image/png": "[encoded data removed]",
      "text/plain": [
       "<Figure size 1080x216 with 2 Axes>"
      ]
     },
     "metadata": {},
     "output_type": "display_data"
    }
   ],
   "source": [
    "df['Ticket_nchar'] = (df['Ticket'].apply(lambda x: len(str(x))).astype(int))\n",
    "\n",
    "f, axs = plt.subplots(1,2,figsize=(15,3))\n",
    "sns.barplot(data=df,x='Ticket_nchar',y='Survived',ax=axs[0])\n",
    "sns.countplot(data=df,x='Ticket_nchar',ax=axs[1])\n",
    "plt.show()\n",
    "df['Ticket_nchar'] = pd.qcut(df['Ticket_nchar'],4,labels=np.arange(0,4))\n",
    "f, axs = plt.subplots(1,2,figsize=(15,3))\n",
    "sns.barplot(data=df,x='Ticket_nchar',y='Survived',ax=axs[0])\n",
    "sns.countplot(data=df,x='Ticket_nchar',ax=axs[1])\n",
    "plt.show()\n",
    "\n",
    "\n",
    "df['Ticket_nchar'] = (df['Ticket'].apply(lambda x: len(str(x))).astype(int))\n",
    "clusters_series_model = series_cluster(df[['Ticket_nchar']])\n",
    "df['Ticket_nchar'] = clusters_series_model.retorna_clusters()\n",
    "f, axs = plt.subplots(1,2,figsize=(15,3))\n",
    "sns.barplot(data=df,x='Ticket_nchar',y='Survived',ax=axs[0])\n",
    "sns.countplot(data=df,x='Ticket_nchar',ax=axs[1])\n",
    "plt.show()\n",
    "\n",
    "df['Ticket_nchar'] = (df['Ticket'].apply(lambda x: len(str(x))).astype(int))"
   ]
  },
  {
   "cell_type": "markdown",
   "metadata": {
    "hidden": true
   },
   "source": [
    "### Quantidade de Tickets\n",
    "---\n",
    "Uma feature que tem diferenças notável entre as categorias, pode ser bem aplicada"
   ]
  },
  {
   "cell_type": "code",
   "execution_count": 699,
   "metadata": {
    "hidden": true
   },
   "outputs": [
    {
     "data": {
      "image/png": "[encoded data removed]",
      "text/plain": [
       "<Figure size 1080x216 with 2 Axes>"
      ]
     },
     "metadata": {},
     "output_type": "display_data"
    },
    {
     "name": "stdout",
     "output_type": "stream",
     "text": [
      "melhor cluster:  5\n"
     ]
    },
    {
     "data": {
      "image/png": "[encoded data removed]",
      "text/plain": [
       "<Figure size 1080x216 with 2 Axes>"
      ]
     },
     "metadata": {},
     "output_type": "display_data"
    }
   ],
   "source": [
    "f, axs = plt.subplots(1,2,figsize=(15,3))\n",
    "df['Ticket_count'] = df.Ticket.map(df.Ticket.value_counts())\n",
    "sns.barplot(data=df,x='Ticket_count',y='Survived',ax=axs[0])\n",
    "sns.countplot(df['Ticket_count'],ax=axs[1])\n",
    "plt.show()\n",
    "\n",
    "\n",
    "df['Ticket_count'] = series_cluster(df[['Ticket_count']]).retorna_clusters()\n",
    "f, axs = plt.subplots(1,2,figsize=(15,3))\n",
    "sns.barplot(data=df,x='Ticket_count',y='Survived',ax=axs[0])\n",
    "sns.countplot(df['Ticket_count'],ax=axs[1])\n",
    "plt.show()\n",
    "df['Ticket_count'] = df.Ticket.map(df.Ticket.value_counts())"
   ]
  },
  {
   "cell_type": "code",
   "execution_count": null,
   "metadata": {
    "hidden": true
   },
   "outputs": [],
   "source": []
  },
  {
   "cell_type": "markdown",
   "metadata": {
    "heading_collapsed": true,
    "hidden": true
   },
   "source": [
    "### Ordem de compra\n",
    "--- "
   ]
  },
  {
   "cell_type": "code",
   "execution_count": 700,
   "metadata": {
    "hidden": true
   },
   "outputs": [
    {
     "data": {
      "text/plain": [
       "PassengerId\n",
       "685               29750\n",
       "65             PC 17605\n",
       "349          C.A. 37671\n",
       "1020             211535\n",
       "380              347069\n",
       "930              345768\n",
       "861              350026\n",
       "689              350036\n",
       "765              347074\n",
       "584               13049\n",
       "918              113509\n",
       "221     SOTON/OQ 392089\n",
       "869              345777\n",
       "816              112058\n",
       "607              349246\n",
       "242              367230\n",
       "603              113796\n",
       "1004           PC 17531\n",
       "36               113789\n",
       "862               28134\n",
       "Name: Ticket, dtype: object"
      ]
     },
     "execution_count": 700,
     "metadata": {},
     "output_type": "execute_result"
    }
   ],
   "source": [
    "df.Ticket.sample(20)"
   ]
  },
  {
   "cell_type": "code",
   "execution_count": 701,
   "metadata": {
    "hidden": true
   },
   "outputs": [],
   "source": [
    "# #df[df.Ticket.duplicated(keep=False)].sort_values(['Pclass',\"Ticket\"]).iloc[30:60,:]\n",
    "# f, axs = plt.subplots(2,2,figsize=(15,10))\n",
    "# df['Ticket_count'] = df.Ticket.map(df.Ticket.value_counts())\n",
    "# df['Ticket_isnumeric'] = (df['Ticket'].apply(lambda x: str(x)[0].isnumeric())).astype(int)\n",
    "# df['Ticket_firstchar'] = (df['Ticket'].apply(lambda x: str(x)[0]))\n",
    "# df['Ticket_nchar'] = (df['Ticket'].apply(lambda x: len(x)).astype(int))\n",
    "# sns.barplot(data=df,x='Ticket_count',y='Survived',ax=axs[0,1])\n",
    "# sns.countplot(df['Ticket_count'],ax=axs[0,0])\n",
    "# sns.barplot(data=df,x='Ticket_isnumeric',y='Survived',ax=axs[1,1])\n",
    "# sns.countplot(df['Ticket_isnumeric'],ax=axs[1,0])\n",
    "# plt.show()"
   ]
  },
  {
   "cell_type": "markdown",
   "metadata": {
    "heading_collapsed": true
   },
   "source": [
    "## Names\n",
    "---\n",
    "Ideias atuais:\n",
    "- Verificar o pronome de tratamento\n",
    "- Alguns nomes tem um (), pode ser que isso seja algo importante\n",
    "- Podemos verificar quantas vezes o sobrenome se repete, pode trazer alguma informação importante de proximidade ou parentesco"
   ]
  },
  {
   "cell_type": "markdown",
   "metadata": {
    "heading_collapsed": true,
    "hidden": true
   },
   "source": [
    "### Pronome de tratamento\n",
    "---"
   ]
  },
  {
   "cell_type": "code",
   "execution_count": 702,
   "metadata": {
    "hidden": true
   },
   "outputs": [
    {
     "data": {
      "text/html": [
       "<div>\n",
       "<style scoped>\n",
       "    .dataframe tbody tr th:only-of-type {\n",
       "        vertical-align: middle;\n",
       "    }\n",
       "\n",
       "    .dataframe tbody tr th {\n",
       "        vertical-align: top;\n",
       "    }\n",
       "\n",
       "    .dataframe thead th {\n",
       "        text-align: right;\n",
       "    }\n",
       "</style>\n",
       "<table border=\"1\" class=\"dataframe\">\n",
       "  <thead>\n",
       "    <tr style=\"text-align: right;\">\n",
       "      <th></th>\n",
       "      <th>Survived</th>\n",
       "      <th>Pclass</th>\n",
       "      <th>Name</th>\n",
       "      <th>Sex</th>\n",
       "      <th>Age</th>\n",
       "      <th>SibSp</th>\n",
       "      <th>Parch</th>\n",
       "      <th>Ticket</th>\n",
       "      <th>Fare</th>\n",
       "      <th>Cabin</th>\n",
       "      <th>Embarked</th>\n",
       "      <th>Separation</th>\n",
       "      <th>Cabin_null</th>\n",
       "      <th>Tickets_isPclass</th>\n",
       "      <th>Ticket_nchar</th>\n",
       "      <th>Ticket_count</th>\n",
       "      <th>name_treatment</th>\n",
       "    </tr>\n",
       "    <tr>\n",
       "      <th>PassengerId</th>\n",
       "      <th></th>\n",
       "      <th></th>\n",
       "      <th></th>\n",
       "      <th></th>\n",
       "      <th></th>\n",
       "      <th></th>\n",
       "      <th></th>\n",
       "      <th></th>\n",
       "      <th></th>\n",
       "      <th></th>\n",
       "      <th></th>\n",
       "      <th></th>\n",
       "      <th></th>\n",
       "      <th></th>\n",
       "      <th></th>\n",
       "      <th></th>\n",
       "      <th></th>\n",
       "    </tr>\n",
       "  </thead>\n",
       "  <tbody>\n",
       "    <tr>\n",
       "      <th>1</th>\n",
       "      <td>0.0</td>\n",
       "      <td>3</td>\n",
       "      <td>Braund, Mr. Owen Harris</td>\n",
       "      <td>male</td>\n",
       "      <td>22.0</td>\n",
       "      <td>1</td>\n",
       "      <td>0</td>\n",
       "      <td>A/5 21171</td>\n",
       "      <td>7.2500</td>\n",
       "      <td>NaN</td>\n",
       "      <td>S</td>\n",
       "      <td>train</td>\n",
       "      <td>1</td>\n",
       "      <td>False</td>\n",
       "      <td>9</td>\n",
       "      <td>1</td>\n",
       "      <td>Mr.</td>\n",
       "    </tr>\n",
       "    <tr>\n",
       "      <th>2</th>\n",
       "      <td>1.0</td>\n",
       "      <td>1</td>\n",
       "      <td>Cumings, Mrs. John Bradley (Florence Briggs Th...</td>\n",
       "      <td>female</td>\n",
       "      <td>38.0</td>\n",
       "      <td>1</td>\n",
       "      <td>0</td>\n",
       "      <td>PC 17599</td>\n",
       "      <td>71.2833</td>\n",
       "      <td>C85</td>\n",
       "      <td>C</td>\n",
       "      <td>train</td>\n",
       "      <td>0</td>\n",
       "      <td>False</td>\n",
       "      <td>8</td>\n",
       "      <td>2</td>\n",
       "      <td>Mrs.</td>\n",
       "    </tr>\n",
       "  </tbody>\n",
       "</table>\n",
       "</div>"
      ],
      "text/plain": [
       "             Survived  Pclass  \\\n",
       "PassengerId                     \n",
       "1                 0.0       3   \n",
       "2                 1.0       1   \n",
       "\n",
       "                                                          Name     Sex   Age  \\\n",
       "PassengerId                                                                    \n",
       "1                                      Braund, Mr. Owen Harris    male  22.0   \n",
       "2            Cumings, Mrs. John Bradley (Florence Briggs Th...  female  38.0   \n",
       "\n",
       "             SibSp  Parch     Ticket     Fare Cabin Embarked Separation  \\\n",
       "PassengerId                                                               \n",
       "1                1      0  A/5 21171   7.2500   NaN        S      train   \n",
       "2                1      0   PC 17599  71.2833   C85        C      train   \n",
       "\n",
       "             Cabin_null  Tickets_isPclass  Ticket_nchar  Ticket_count  \\\n",
       "PassengerId                                                             \n",
       "1                     1             False             9             1   \n",
       "2                     0             False             8             2   \n",
       "\n",
       "            name_treatment  \n",
       "PassengerId                 \n",
       "1                      Mr.  \n",
       "2                     Mrs.  "
      ]
     },
     "execution_count": 702,
     "metadata": {},
     "output_type": "execute_result"
    }
   ],
   "source": [
    "df['name_treatment'] = df['Name'].str.split(\", \",expand=True).loc[:,1].str.split(\" \",expand=True).loc[:,0]\n",
    "df.head(2)"
   ]
  },
  {
   "cell_type": "code",
   "execution_count": 703,
   "metadata": {
    "hidden": true
   },
   "outputs": [
    {
     "data": {
      "text/html": [
       "<div>\n",
       "<style scoped>\n",
       "    .dataframe tbody tr th:only-of-type {\n",
       "        vertical-align: middle;\n",
       "    }\n",
       "\n",
       "    .dataframe tbody tr th {\n",
       "        vertical-align: top;\n",
       "    }\n",
       "\n",
       "    .dataframe thead th {\n",
       "        text-align: right;\n",
       "    }\n",
       "</style>\n",
       "<table border=\"1\" class=\"dataframe\">\n",
       "  <thead>\n",
       "    <tr style=\"text-align: right;\">\n",
       "      <th></th>\n",
       "      <th>Survived</th>\n",
       "      <th>Pclass</th>\n",
       "      <th>Name</th>\n",
       "      <th>Sex</th>\n",
       "      <th>Age</th>\n",
       "      <th>SibSp</th>\n",
       "      <th>Parch</th>\n",
       "      <th>Ticket</th>\n",
       "      <th>Fare</th>\n",
       "      <th>Cabin</th>\n",
       "      <th>Embarked</th>\n",
       "      <th>Separation</th>\n",
       "      <th>Cabin_null</th>\n",
       "      <th>Tickets_isPclass</th>\n",
       "      <th>Ticket_nchar</th>\n",
       "      <th>Ticket_count</th>\n",
       "      <th>name_treatment</th>\n",
       "    </tr>\n",
       "    <tr>\n",
       "      <th>PassengerId</th>\n",
       "      <th></th>\n",
       "      <th></th>\n",
       "      <th></th>\n",
       "      <th></th>\n",
       "      <th></th>\n",
       "      <th></th>\n",
       "      <th></th>\n",
       "      <th></th>\n",
       "      <th></th>\n",
       "      <th></th>\n",
       "      <th></th>\n",
       "      <th></th>\n",
       "      <th></th>\n",
       "      <th></th>\n",
       "      <th></th>\n",
       "      <th></th>\n",
       "      <th></th>\n",
       "    </tr>\n",
       "  </thead>\n",
       "  <tbody>\n",
       "    <tr>\n",
       "      <th>53</th>\n",
       "      <td>1.0</td>\n",
       "      <td>1</td>\n",
       "      <td>Harper, Mrs. Henry Sleeper (Myna Haxtun)</td>\n",
       "      <td>female</td>\n",
       "      <td>49.0</td>\n",
       "      <td>1</td>\n",
       "      <td>0</td>\n",
       "      <td>PC 17572</td>\n",
       "      <td>76.7292</td>\n",
       "      <td>D33</td>\n",
       "      <td>C</td>\n",
       "      <td>train</td>\n",
       "      <td>0</td>\n",
       "      <td>False</td>\n",
       "      <td>8</td>\n",
       "      <td>3</td>\n",
       "      <td>Mrs.</td>\n",
       "    </tr>\n",
       "    <tr>\n",
       "      <th>646</th>\n",
       "      <td>1.0</td>\n",
       "      <td>1</td>\n",
       "      <td>Harper, Mr. Henry Sleeper</td>\n",
       "      <td>male</td>\n",
       "      <td>48.0</td>\n",
       "      <td>1</td>\n",
       "      <td>0</td>\n",
       "      <td>PC 17572</td>\n",
       "      <td>76.7292</td>\n",
       "      <td>D33</td>\n",
       "      <td>C</td>\n",
       "      <td>train</td>\n",
       "      <td>0</td>\n",
       "      <td>False</td>\n",
       "      <td>8</td>\n",
       "      <td>3</td>\n",
       "      <td>Mr.</td>\n",
       "    </tr>\n",
       "    <tr>\n",
       "      <th>721</th>\n",
       "      <td>1.0</td>\n",
       "      <td>2</td>\n",
       "      <td>Harper, Miss. Annie Jessie \"Nina\"</td>\n",
       "      <td>female</td>\n",
       "      <td>6.0</td>\n",
       "      <td>0</td>\n",
       "      <td>1</td>\n",
       "      <td>248727</td>\n",
       "      <td>33.0000</td>\n",
       "      <td>NaN</td>\n",
       "      <td>S</td>\n",
       "      <td>train</td>\n",
       "      <td>1</td>\n",
       "      <td>True</td>\n",
       "      <td>6</td>\n",
       "      <td>3</td>\n",
       "      <td>Miss.</td>\n",
       "    </tr>\n",
       "    <tr>\n",
       "      <th>849</th>\n",
       "      <td>0.0</td>\n",
       "      <td>2</td>\n",
       "      <td>Harper, Rev. John</td>\n",
       "      <td>male</td>\n",
       "      <td>28.0</td>\n",
       "      <td>0</td>\n",
       "      <td>1</td>\n",
       "      <td>248727</td>\n",
       "      <td>33.0000</td>\n",
       "      <td>NaN</td>\n",
       "      <td>S</td>\n",
       "      <td>train</td>\n",
       "      <td>1</td>\n",
       "      <td>True</td>\n",
       "      <td>6</td>\n",
       "      <td>3</td>\n",
       "      <td>Rev.</td>\n",
       "    </tr>\n",
       "  </tbody>\n",
       "</table>\n",
       "</div>"
      ],
      "text/plain": [
       "             Survived  Pclass                                      Name  \\\n",
       "PassengerId                                                               \n",
       "53                1.0       1  Harper, Mrs. Henry Sleeper (Myna Haxtun)   \n",
       "646               1.0       1                 Harper, Mr. Henry Sleeper   \n",
       "721               1.0       2         Harper, Miss. Annie Jessie \"Nina\"   \n",
       "849               0.0       2                         Harper, Rev. John   \n",
       "\n",
       "                Sex   Age  SibSp  Parch    Ticket     Fare Cabin Embarked  \\\n",
       "PassengerId                                                                 \n",
       "53           female  49.0      1      0  PC 17572  76.7292   D33        C   \n",
       "646            male  48.0      1      0  PC 17572  76.7292   D33        C   \n",
       "721          female   6.0      0      1    248727  33.0000   NaN        S   \n",
       "849            male  28.0      0      1    248727  33.0000   NaN        S   \n",
       "\n",
       "            Separation  Cabin_null  Tickets_isPclass  Ticket_nchar  \\\n",
       "PassengerId                                                          \n",
       "53               train           0             False             8   \n",
       "646              train           0             False             8   \n",
       "721              train           1              True             6   \n",
       "849              train           1              True             6   \n",
       "\n",
       "             Ticket_count name_treatment  \n",
       "PassengerId                               \n",
       "53                      3           Mrs.  \n",
       "646                     3            Mr.  \n",
       "721                     3          Miss.  \n",
       "849                     3           Rev.  "
      ]
     },
     "execution_count": 703,
     "metadata": {},
     "output_type": "execute_result"
    }
   ],
   "source": [
    "df[df['Name'].str.contains('Harper')]"
   ]
  },
  {
   "cell_type": "code",
   "execution_count": 704,
   "metadata": {
    "hidden": true
   },
   "outputs": [],
   "source": [
    "df.loc[((df['name_treatment'].str.contains(\"Dr.\")) & (df['Sex'] == \"male\")),\"name_treatment\"] = \"Mr.\"\n",
    "df.loc[((df['name_treatment'].str.contains(\"Dr.\")) & (df['Sex'] != \"male\")),\"name_treatment\"] = \"Miss.\""
   ]
  },
  {
   "cell_type": "code",
   "execution_count": 705,
   "metadata": {
    "hidden": true
   },
   "outputs": [],
   "source": [
    "df['name_treatment'].replace(['the', 'Lady.','Mme.','Mlle.','Dona.','Mrs.'],'Mrs.',inplace=True) # Ladies\n",
    "df['name_treatment'].replace(['Ms.','Miss.'],'Miss.',inplace=True) # Ladies\n",
    "df['name_treatment'].replace(['Jonkheer.','Don.','Capt.','Don.','Sir.','Col.','Major.'],\"Mr.\",inplace=True)\n",
    "#df['name_treatment'].value_counts()"
   ]
  },
  {
   "cell_type": "code",
   "execution_count": 706,
   "metadata": {
    "hidden": true
   },
   "outputs": [
    {
     "data": {
      "text/plain": [
       "<matplotlib.axes._subplots.AxesSubplot at 0x22f641f3788>"
      ]
     },
     "execution_count": 706,
     "metadata": {},
     "output_type": "execute_result"
    },
    {
     "data": {
      "image/png": "[encoded data removed]",
      "text/plain": [
       "<Figure size 1080x288 with 2 Axes>"
      ]
     },
     "metadata": {},
     "output_type": "display_data"
    }
   ],
   "source": [
    "f, axs = plt.subplots(1,2,figsize=(15,4))\n",
    "sns.barplot(data=df,x='name_treatment',y='Survived',ax=axs[0])\n",
    "sns.countplot(df['name_treatment'],ax=axs[1])"
   ]
  },
  {
   "cell_type": "markdown",
   "metadata": {
    "heading_collapsed": true,
    "hidden": true
   },
   "source": [
    "### Verificar ()\n",
    "--- \n",
    "Uma feature com muita diferença e que pode trazer bastante resultado, já que ao menos 100 pessoas em cada categorias e elas são bem divergentes"
   ]
  },
  {
   "cell_type": "code",
   "execution_count": 707,
   "metadata": {
    "hidden": true
   },
   "outputs": [],
   "source": [
    "df['Name_has()'] = df['Name'].apply(lambda x: \"(\" in x)"
   ]
  },
  {
   "cell_type": "code",
   "execution_count": 708,
   "metadata": {
    "hidden": true
   },
   "outputs": [
    {
     "data": {
      "text/plain": [
       "<matplotlib.axes._subplots.AxesSubplot at 0x22f643b7648>"
      ]
     },
     "execution_count": 708,
     "metadata": {},
     "output_type": "execute_result"
    },
    {
     "data": {
      "image/png": "[encoded data removed]",
      "text/plain": [
       "<Figure size 1080x288 with 2 Axes>"
      ]
     },
     "metadata": {},
     "output_type": "display_data"
    }
   ],
   "source": [
    "f, axs = plt.subplots(1,2,figsize=(15,4))\n",
    "sns.barplot(data=df,x='Name_has()',y='Survived',ax=axs[0])\n",
    "sns.countplot(df['Name_has()'],ax=axs[1])"
   ]
  },
  {
   "cell_type": "markdown",
   "metadata": {
    "hidden": true
   },
   "source": [
    "### Sobrenome\n",
    "--- \n"
   ]
  },
  {
   "cell_type": "code",
   "execution_count": null,
   "metadata": {
    "hidden": true
   },
   "outputs": [],
   "source": []
  },
  {
   "cell_type": "markdown",
   "metadata": {},
   "source": [
    "## SibSP e Parch\n",
    "---\n",
    "Ideias\n",
    "- Tentar montar a familia completa\n",
    "- Se está sozinho\n",
    "- Tentar ver a distribuição por clusters"
   ]
  },
  {
   "cell_type": "markdown",
   "metadata": {},
   "source": [
    "### Familia Completa\n",
    "--- \n"
   ]
  },
  {
   "cell_type": "code",
   "execution_count": 709,
   "metadata": {},
   "outputs": [
    {
     "data": {
      "image/png": "[encoded data removed]",
      "text/plain": [
       "<Figure size 1080x216 with 2 Axes>"
      ]
     },
     "metadata": {},
     "output_type": "display_data"
    },
    {
     "name": "stdout",
     "output_type": "stream",
     "text": [
      "melhor cluster:  5\n"
     ]
    },
    {
     "data": {
      "image/png": "[encoded data removed]",
      "text/plain": [
       "<Figure size 1080x216 with 2 Axes>"
      ]
     },
     "metadata": {},
     "output_type": "display_data"
    }
   ],
   "source": [
    "df['Family_count'] = df['Parch'] + df['SibSp'] + 1\n",
    "f, axs = plt.subplots(1,2,figsize=(15,3))\n",
    "sns.barplot(data=df,x='Family_count',y='Survived',ax=axs[0])\n",
    "sns.countplot(df['Family_count'],ax=axs[1])\n",
    "plt.show()\n",
    "\n",
    "df['Family_count'] = series_cluster(df[['Family_count']]).retorna_clusters()\n",
    "f, axs = plt.subplots(1,2,figsize=(15,3))\n",
    "sns.barplot(data=df,x='Family_count',y='Survived',ax=axs[0])\n",
    "sns.countplot(data=df, x='Family_count',hue='Separation',ax=axs[1])\n",
    "plt.show()\n",
    "df['Family_count'] = df['Parch'] + df['SibSp'] + 1"
   ]
  },
  {
   "cell_type": "markdown",
   "metadata": {},
   "source": [
    "### Se está sozinho\n",
    "--- "
   ]
  },
  {
   "cell_type": "code",
   "execution_count": 710,
   "metadata": {},
   "outputs": [
    {
     "data": {
      "image/png": "[encoded data removed]",
      "text/plain": [
       "<Figure size 1080x216 with 2 Axes>"
      ]
     },
     "metadata": {},
     "output_type": "display_data"
    }
   ],
   "source": [
    "df['is_alone'] = (df['Family_count'] == 1).astype(int)\n",
    "f, axs = plt.subplots(1,2,figsize=(15,3))\n",
    "sns.barplot(data=df,x='is_alone',y='Survived',ax=axs[0])\n",
    "sns.countplot(df['is_alone'],ax=axs[1])\n",
    "plt.show()"
   ]
  },
  {
   "cell_type": "markdown",
   "metadata": {
    "heading_collapsed": true
   },
   "source": [
    "### Distribuição por Clusters\n",
    "---"
   ]
  },
  {
   "cell_type": "code",
   "execution_count": 711,
   "metadata": {
    "hidden": true
   },
   "outputs": [
    {
     "data": {
      "image/png": "[encoded data removed]",
      "text/plain": [
       "<Figure size 1080x216 with 2 Axes>"
      ]
     },
     "metadata": {},
     "output_type": "display_data"
    },
    {
     "name": "stdout",
     "output_type": "stream",
     "text": [
      "melhor cluster:  5\n"
     ]
    },
    {
     "data": {
      "image/png": "[encoded data removed]",
      "text/plain": [
       "<Figure size 1080x216 with 2 Axes>"
      ]
     },
     "metadata": {},
     "output_type": "display_data"
    }
   ],
   "source": [
    "# df['Fare'] = series_cluster(df[['Fare']]).retorna_clusters()\n",
    "f, axs = plt.subplots(1,2,figsize=(15,3))\n",
    "sns.barplot(data=df,x='Parch',y='Survived',ax=axs[0])\n",
    "sns.countplot(df['Parch'],ax=axs[1])\n",
    "plt.show()\n",
    "\n",
    "df['Parch'] = series_cluster(df[['Parch']]).retorna_clusters()\n",
    "f, axs = plt.subplots(1,2,figsize=(15,3))\n",
    "sns.barplot(data=df,x='Parch',y='Survived',ax=axs[0])\n",
    "sns.countplot(df['Parch'],ax=axs[1])\n",
    "plt.show()"
   ]
  },
  {
   "cell_type": "code",
   "execution_count": 712,
   "metadata": {
    "hidden": true
   },
   "outputs": [
    {
     "data": {
      "image/png": "[encoded data removed]",
      "text/plain": [
       "<Figure size 1080x216 with 2 Axes>"
      ]
     },
     "metadata": {},
     "output_type": "display_data"
    },
    {
     "name": "stdout",
     "output_type": "stream",
     "text": [
      "melhor cluster:  4\n"
     ]
    },
    {
     "data": {
      "image/png": "[encoded data removed]",
      "text/plain": [
       "<Figure size 1080x216 with 2 Axes>"
      ]
     },
     "metadata": {},
     "output_type": "display_data"
    }
   ],
   "source": [
    "f, axs = plt.subplots(1,2,figsize=(15,3))\n",
    "sns.barplot(data=df,x='SibSp',y='Survived',ax=axs[0])\n",
    "sns.countplot(df['SibSp'],ax=axs[1])\n",
    "plt.show()\n",
    "\n",
    "df['SibSp'] = series_cluster(df[['SibSp']]).retorna_clusters()\n",
    "f, axs = plt.subplots(1,2,figsize=(15,3))\n",
    "sns.barplot(data=df,x='SibSp',y='Survived',ax=axs[0])\n",
    "sns.countplot(df['SibSp'],ax=axs[1])\n",
    "plt.show()"
   ]
  },
  {
   "cell_type": "markdown",
   "metadata": {},
   "source": [
    "## Fare\n",
    "---\n",
    "- Utilizando a Fare média da Pclass dessa pessoa\n",
    "- Fazer um Fare por Ticket e por Tamanho da Familia parecem ser escolhas interessantes"
   ]
  },
  {
   "cell_type": "markdown",
   "metadata": {
    "heading_collapsed": true
   },
   "source": [
    "### Tratamento Com Fare média\n",
    "---"
   ]
  },
  {
   "cell_type": "code",
   "execution_count": 713,
   "metadata": {
    "hidden": true
   },
   "outputs": [],
   "source": [
    "df.loc[df['Fare'].isna(),\"Fare\"] = 13.35\n",
    "#df.groupby(['Pclass','Cabin'],as_index=False).Fare.mean()"
   ]
  },
  {
   "cell_type": "code",
   "execution_count": 714,
   "metadata": {
    "hidden": true
   },
   "outputs": [
    {
     "data": {
      "image/png": "[encoded data removed]",
      "text/plain": [
       "<Figure size 1080x288 with 2 Axes>"
      ]
     },
     "metadata": {},
     "output_type": "display_data"
    },
    {
     "data": {
      "image/png": "[encoded data removed]",
      "text/plain": [
       "<Figure size 1080x288 with 1 Axes>"
      ]
     },
     "metadata": {},
     "output_type": "display_data"
    }
   ],
   "source": [
    "f, axs = plt.subplots(1,2,figsize=(15,4))\n",
    "df.loc[df['Fare'].isna(),\"Fare\"] = 13.35\n",
    "sns.violinplot(data=df,y='Fare',x='Pclass',hue='Separation',ax=axs[0],color='purple')\n",
    "sns.barplot(data=df,y='Fare',x='Embarked',hue='Separation',ax=axs[1],color='purple')\n",
    "plt.show()\n",
    "plt.figure(figsize=(15,4))\n",
    "sns.distplot(df.query(\"Survived == 0\")['Fare'],color='purple')\n",
    "sns.distplot(df.query(\"Survived == 1\")['Fare'],color='green')\n",
    "plt.show()\n",
    "\n",
    "# df['Fare'] = series_cluster(df[['Fare']]).retorna_clusters()\n",
    "# f, axs = plt.subplots(1,2,figsize=(15,3))\n",
    "# sns.barplot(data=df,x='Fare',y='Survived',ax=axs[0])\n",
    "# sns.countplot(df['Fare'],ax=axs[1])\n",
    "# plt.show()"
   ]
  },
  {
   "cell_type": "markdown",
   "metadata": {
    "heading_collapsed": true
   },
   "source": [
    "### Fare Por Ticket\n",
    "--- "
   ]
  },
  {
   "cell_type": "code",
   "execution_count": 715,
   "metadata": {
    "hidden": true
   },
   "outputs": [
    {
     "name": "stdout",
     "output_type": "stream",
     "text": [
      "melhor cluster:  4\n"
     ]
    },
    {
     "data": {
      "image/png": "[encoded data removed]",
      "text/plain": [
       "<Figure size 1080x216 with 2 Axes>"
      ]
     },
     "metadata": {},
     "output_type": "display_data"
    }
   ],
   "source": [
    "df['Fare_per_ticket'] = df['Fare']/(df['Ticket_count']+1)\n",
    "\n",
    "def create_commom_graph(col):\n",
    "    f, axs = plt.subplots(1,2,figsize=(15,3))\n",
    "    sns.barplot(data=df,x=col,y='Survived',ax=axs[0])\n",
    "    sns.countplot(df[col],ax=axs[1])\n",
    "    plt.show()\n",
    "    \n",
    "#create_commom_graph('Fare_per_ticket')\n",
    "df['Fare_per_ticket'] = series_cluster(df[['Fare_per_ticket']]).retorna_clusters()\n",
    "create_commom_graph('Fare_per_ticket')"
   ]
  },
  {
   "cell_type": "markdown",
   "metadata": {
    "heading_collapsed": true
   },
   "source": [
    "### Fare per Family\n",
    "--- \n",
    "\n"
   ]
  },
  {
   "cell_type": "code",
   "execution_count": 716,
   "metadata": {
    "hidden": true
   },
   "outputs": [
    {
     "name": "stdout",
     "output_type": "stream",
     "text": [
      "melhor cluster:  5\n"
     ]
    },
    {
     "data": {
      "image/png": "[encoded data removed]",
      "text/plain": [
       "<Figure size 1080x216 with 2 Axes>"
      ]
     },
     "metadata": {},
     "output_type": "display_data"
    }
   ],
   "source": [
    "#create_commom_graph('Fare_per_ticket')\n",
    "df['Fare_per_family'] = df['Fare']/(df['Family_count']+1)\n",
    "df['Fare_per_family'] = series_cluster(df[['Fare_per_family']]).retorna_clusters()\n",
    "create_commom_graph('Fare_per_family')"
   ]
  },
  {
   "cell_type": "markdown",
   "metadata": {
    "heading_collapsed": true
   },
   "source": [
    "## Embarked\n",
    "--- \n"
   ]
  },
  {
   "cell_type": "code",
   "execution_count": 717,
   "metadata": {
    "hidden": true
   },
   "outputs": [
    {
     "data": {
      "text/plain": [
       "<matplotlib.axes._subplots.AxesSubplot at 0x22f62a28bc8>"
      ]
     },
     "execution_count": 717,
     "metadata": {},
     "output_type": "execute_result"
    },
    {
     "data": {
      "image/png": "[encoded data removed]",
      "text/plain": [
       "<Figure size 1080x288 with 2 Axes>"
      ]
     },
     "metadata": {},
     "output_type": "display_data"
    }
   ],
   "source": [
    "f, axs = plt.subplots(1,2,figsize=(15,4))\n",
    "df['Embarked'] = df['Embarked'].fillna(\"S\")\n",
    "sns.countplot(data=df,x='Embarked',hue='Separation',ax=axs[0],color='purple')\n",
    "axs[1].set_title(\"hue\")\n",
    "sns.barplot(data=df,y='Survived',x='Embarked',ax=axs[1])"
   ]
  },
  {
   "cell_type": "markdown",
   "metadata": {},
   "source": [
    "## Age\n",
    "---"
   ]
  },
  {
   "cell_type": "code",
   "execution_count": 718,
   "metadata": {},
   "outputs": [],
   "source": [
    "\n",
    "df.drop(['Ticket','Name','Cabin','Separation'],axis=1,inplace=True)\n",
    "#df.drop(['Ticket','Name','Cabin','Separation'],axis=1).dtypes"
   ]
  },
  {
   "cell_type": "code",
   "execution_count": 719,
   "metadata": {},
   "outputs": [],
   "source": [
    "from sklearn.ensemble import RandomForestRegressor\n",
    "from sklearn.model_selection import cross_val_score\n",
    "from sklearn.metrics import r2_score"
   ]
  },
  {
   "cell_type": "code",
   "execution_count": 720,
   "metadata": {},
   "outputs": [],
   "source": [
    "age_df = df.drop(['Survived'],axis=1) #[[\"name_treatment\",'Embarked','Sex','Fare','Age','Pclass']]"
   ]
  },
  {
   "cell_type": "code",
   "execution_count": 721,
   "metadata": {
    "scrolled": true
   },
   "outputs": [],
   "source": [
    "#age_df.dtypes"
   ]
  },
  {
   "cell_type": "code",
   "execution_count": 722,
   "metadata": {},
   "outputs": [
    {
     "data": {
      "text/html": [
       "<div>\n",
       "<style scoped>\n",
       "    .dataframe tbody tr th:only-of-type {\n",
       "        vertical-align: middle;\n",
       "    }\n",
       "\n",
       "    .dataframe tbody tr th {\n",
       "        vertical-align: top;\n",
       "    }\n",
       "\n",
       "    .dataframe thead th {\n",
       "        text-align: right;\n",
       "    }\n",
       "</style>\n",
       "<table border=\"1\" class=\"dataframe\">\n",
       "  <thead>\n",
       "    <tr style=\"text-align: right;\">\n",
       "      <th></th>\n",
       "      <th>Pclass</th>\n",
       "      <th>Sex</th>\n",
       "      <th>Age</th>\n",
       "      <th>SibSp</th>\n",
       "      <th>Parch</th>\n",
       "      <th>Fare</th>\n",
       "      <th>Embarked</th>\n",
       "      <th>Cabin_null</th>\n",
       "      <th>Tickets_isPclass</th>\n",
       "      <th>Ticket_nchar</th>\n",
       "      <th>Ticket_count</th>\n",
       "      <th>name_treatment</th>\n",
       "      <th>Name_has()</th>\n",
       "      <th>Family_count</th>\n",
       "      <th>is_alone</th>\n",
       "      <th>Fare_per_ticket</th>\n",
       "      <th>Fare_per_family</th>\n",
       "    </tr>\n",
       "    <tr>\n",
       "      <th>PassengerId</th>\n",
       "      <th></th>\n",
       "      <th></th>\n",
       "      <th></th>\n",
       "      <th></th>\n",
       "      <th></th>\n",
       "      <th></th>\n",
       "      <th></th>\n",
       "      <th></th>\n",
       "      <th></th>\n",
       "      <th></th>\n",
       "      <th></th>\n",
       "      <th></th>\n",
       "      <th></th>\n",
       "      <th></th>\n",
       "      <th></th>\n",
       "      <th></th>\n",
       "      <th></th>\n",
       "    </tr>\n",
       "  </thead>\n",
       "  <tbody>\n",
       "    <tr>\n",
       "      <th>1</th>\n",
       "      <td>3</td>\n",
       "      <td>1</td>\n",
       "      <td>22.0</td>\n",
       "      <td>1</td>\n",
       "      <td>0</td>\n",
       "      <td>7.2500</td>\n",
       "      <td>2</td>\n",
       "      <td>1</td>\n",
       "      <td>False</td>\n",
       "      <td>9</td>\n",
       "      <td>1</td>\n",
       "      <td>2</td>\n",
       "      <td>False</td>\n",
       "      <td>2</td>\n",
       "      <td>0</td>\n",
       "      <td>0</td>\n",
       "      <td>0</td>\n",
       "    </tr>\n",
       "    <tr>\n",
       "      <th>2</th>\n",
       "      <td>1</td>\n",
       "      <td>0</td>\n",
       "      <td>38.0</td>\n",
       "      <td>1</td>\n",
       "      <td>0</td>\n",
       "      <td>71.2833</td>\n",
       "      <td>0</td>\n",
       "      <td>0</td>\n",
       "      <td>False</td>\n",
       "      <td>8</td>\n",
       "      <td>2</td>\n",
       "      <td>3</td>\n",
       "      <td>True</td>\n",
       "      <td>2</td>\n",
       "      <td>0</td>\n",
       "      <td>1</td>\n",
       "      <td>1</td>\n",
       "    </tr>\n",
       "  </tbody>\n",
       "</table>\n",
       "</div>"
      ],
      "text/plain": [
       "             Pclass  Sex   Age  SibSp  Parch     Fare  Embarked  Cabin_null  \\\n",
       "PassengerId                                                                   \n",
       "1                 3    1  22.0      1      0   7.2500         2           1   \n",
       "2                 1    0  38.0      1      0  71.2833         0           0   \n",
       "\n",
       "             Tickets_isPclass  Ticket_nchar  Ticket_count  name_treatment  \\\n",
       "PassengerId                                                                 \n",
       "1                       False             9             1               2   \n",
       "2                       False             8             2               3   \n",
       "\n",
       "             Name_has()  Family_count  is_alone  Fare_per_ticket  \\\n",
       "PassengerId                                                        \n",
       "1                 False             2         0                0   \n",
       "2                  True             2         0                1   \n",
       "\n",
       "             Fare_per_family  \n",
       "PassengerId                   \n",
       "1                          0  \n",
       "2                          1  "
      ]
     },
     "execution_count": 722,
     "metadata": {},
     "output_type": "execute_result"
    }
   ],
   "source": [
    "from sklearn.preprocessing import LabelEncoder,One\n",
    "label_encoder = LabelEncoder()\n",
    "to_labeling = [\"name_treatment\",'Embarked','Sex']\n",
    "age_df[to_labeling] = age_df[to_labeling].apply(label_encoder.fit_transform)\n",
    "age_df.head(2)"
   ]
  },
  {
   "cell_type": "code",
   "execution_count": 723,
   "metadata": {},
   "outputs": [],
   "source": [
    "age_train = age_df[age_df[\"Age\"].isna() == False]\n",
    "age_test = age_df[age_df[\"Age\"].isna()]"
   ]
  },
  {
   "cell_type": "code",
   "execution_count": 724,
   "metadata": {},
   "outputs": [],
   "source": [
    "from sklearn.model_selection import RepeatedStratifiedKFold\n",
    "cv = RepeatedStratifiedKFold(n_splits=5, n_repeats=1, random_state=1)"
   ]
  },
  {
   "cell_type": "code",
   "execution_count": 725,
   "metadata": {},
   "outputs": [
    {
     "data": {
      "text/plain": [
       "0.7800582437303584"
      ]
     },
     "execution_count": 725,
     "metadata": {},
     "output_type": "execute_result"
    }
   ],
   "source": [
    "age_model = RandomForestRegressor(n_estimators=10,random_state=7)\n",
    "age_model.fit(age_train.drop(['Age'],axis=1), age_train['Age'])\n",
    "r2_score(age_train['Age'],age_model.predict(age_train.drop(['Age'],axis=1)))"
   ]
  },
  {
   "cell_type": "code",
   "execution_count": 726,
   "metadata": {},
   "outputs": [],
   "source": [
    "#n_scores = cross_val_score(age_model, age_train.drop(['Age'],axis=1), age_train['Age'], cv=cv, n_jobs=-1, error_score='raise')\n",
    "#print('R2: %.3f +- (%.3f)' % (np.mean(n_scores), np.std(n_scores)))"
   ]
  },
  {
   "cell_type": "code",
   "execution_count": 727,
   "metadata": {},
   "outputs": [],
   "source": [
    "age_test['Age'] = age_model.predict(age_test.drop(['Age'],axis=1))\n",
    "df['Age'] = age_train.append(age_test).sort_index()['Age']"
   ]
  },
  {
   "cell_type": "markdown",
   "metadata": {},
   "source": [
    "# Overfit avoiding\n",
    "---"
   ]
  },
  {
   "cell_type": "code",
   "execution_count": 728,
   "metadata": {},
   "outputs": [
    {
     "name": "stdout",
     "output_type": "stream",
     "text": [
      "melhor cluster:  5\n",
      "melhor cluster:  5\n",
      "melhor cluster:  5\n",
      "melhor cluster:  5\n"
     ]
    }
   ],
   "source": [
    "df['Ticket_nchar'] = series_cluster(df[['Ticket_nchar']]).retorna_clusters()\n",
    "df['Ticket_count'] = series_cluster(df[['Ticket_count']]).retorna_clusters()\n",
    "df['Fare'] = series_cluster(df[['Fare']]).retorna_clusters()\n",
    "df['Age'] = series_cluster(df[['Age']]).retorna_clusters()"
   ]
  },
  {
   "cell_type": "markdown",
   "metadata": {},
   "source": [
    "# Preprocessamento\n",
    "--- "
   ]
  },
  {
   "cell_type": "code",
   "execution_count": 729,
   "metadata": {},
   "outputs": [],
   "source": [
    "df['Sex'] = df['Sex'].map({\n",
    "    'male':0,\n",
    "    'female':1\n",
    "})"
   ]
  },
  {
   "cell_type": "code",
   "execution_count": 869,
   "metadata": {},
   "outputs": [],
   "source": [
    "#df_dummies = pd.get_dummies(df[['Age','name_treatment','Family_count','Fare','Pclass','Embarked']],columns=['Embarked','name_treatment'],drop_first=True)\n",
    "df_dummies = pd.get_dummies(df,columns=['Embarked','name_treatment'],drop_first=True)"
   ]
  },
  {
   "cell_type": "code",
   "execution_count": 883,
   "metadata": {},
   "outputs": [
    {
     "data": {
      "text/html": [
       "<div>\n",
       "<style scoped>\n",
       "    .dataframe tbody tr th:only-of-type {\n",
       "        vertical-align: middle;\n",
       "    }\n",
       "\n",
       "    .dataframe tbody tr th {\n",
       "        vertical-align: top;\n",
       "    }\n",
       "\n",
       "    .dataframe thead th {\n",
       "        text-align: right;\n",
       "    }\n",
       "</style>\n",
       "<table border=\"1\" class=\"dataframe\">\n",
       "  <thead>\n",
       "    <tr style=\"text-align: right;\">\n",
       "      <th></th>\n",
       "      <th>0</th>\n",
       "      <th>1</th>\n",
       "      <th>2</th>\n",
       "      <th>3</th>\n",
       "      <th>4</th>\n",
       "      <th>5</th>\n",
       "      <th>6</th>\n",
       "      <th>Survived</th>\n",
       "    </tr>\n",
       "    <tr>\n",
       "      <th>PassengerId</th>\n",
       "      <th></th>\n",
       "      <th></th>\n",
       "      <th></th>\n",
       "      <th></th>\n",
       "      <th></th>\n",
       "      <th></th>\n",
       "      <th></th>\n",
       "      <th></th>\n",
       "    </tr>\n",
       "  </thead>\n",
       "  <tbody>\n",
       "    <tr>\n",
       "      <th>1</th>\n",
       "      <td>-1.343131</td>\n",
       "      <td>-1.233667</td>\n",
       "      <td>1.539845</td>\n",
       "      <td>-0.299503</td>\n",
       "      <td>0.9726</td>\n",
       "      <td>0.491125</td>\n",
       "      <td>-0.169509</td>\n",
       "      <td>0.0</td>\n",
       "    </tr>\n",
       "    <tr>\n",
       "      <th>2</th>\n",
       "      <td>4.356782</td>\n",
       "      <td>1.572750</td>\n",
       "      <td>-1.276739</td>\n",
       "      <td>-1.959517</td>\n",
       "      <td>0.6644</td>\n",
       "      <td>1.767087</td>\n",
       "      <td>0.144607</td>\n",
       "      <td>1.0</td>\n",
       "    </tr>\n",
       "  </tbody>\n",
       "</table>\n",
       "</div>"
      ],
      "text/plain": [
       "                    0         1         2         3       4         5  \\\n",
       "PassengerId                                                             \n",
       "1           -1.343131 -1.233667  1.539845 -0.299503  0.9726  0.491125   \n",
       "2            4.356782  1.572750 -1.276739 -1.959517  0.6644  1.767087   \n",
       "\n",
       "                    6  Survived  \n",
       "PassengerId                      \n",
       "1           -0.169509       0.0  \n",
       "2            0.144607       1.0  "
      ]
     },
     "execution_count": 883,
     "metadata": {},
     "output_type": "execute_result"
    }
   ],
   "source": [
    "from sklearn.preprocessing import StandardScaler\n",
    "\n",
    "scaler = StandardScaler()\n",
    "\n",
    "data = pd.DataFrame(scaler.fit_transform(df_dummies),index=df_dummies.index,columns=df_dummies.columns)\n",
    "pca = PCA(n_components=7)\n",
    "data = pd.DataFrame(pca.fit_transform(data),index=data.index)\n",
    "data['Survived'] = df['Survived']\n",
    "data.head(2)"
   ]
  },
  {
   "cell_type": "code",
   "execution_count": 871,
   "metadata": {},
   "outputs": [],
   "source": [
    "data_train = data.loc[train_set['PassengerId'].values,:].copy()\n",
    "data_test = data.loc[test_set['PassengerId'].values,:].copy()\n",
    "feature_cols = data_train.columns.drop('Survived')"
   ]
  },
  {
   "cell_type": "code",
   "execution_count": 872,
   "metadata": {},
   "outputs": [
    {
     "data": {
      "text/plain": [
       "<matplotlib.axes._subplots.AxesSubplot at 0x22f6e52fe48>"
      ]
     },
     "execution_count": 872,
     "metadata": {},
     "output_type": "execute_result"
    },
    {
     "data": {
      "image/png": "[encoded data removed]",
      "text/plain": [
       "<Figure size 1152x360 with 1 Axes>"
      ]
     },
     "metadata": {},
     "output_type": "display_data"
    }
   ],
   "source": [
    "from sklearn.decomposition import PCA\n",
    "\n",
    "pca = PCA(n_components=2)\n",
    "df_visual = pca.fit_transform(data_train[feature_cols])\n",
    "plt.figure(figsize=(16,5))\n",
    "sns.scatterplot(x=df_visual[:,0],y=df_visual[:,1],hue=data_train['Survived'])"
   ]
  },
  {
   "cell_type": "markdown",
   "metadata": {},
   "source": [
    "# Modelo\n",
    "---\n",
    "- Start 82.9%  SVC\n",
    "- Adicionado Ticket_count, ticket_char_count e se tem () no nome, todos esses + Fare foram reescalados usando o kmeans 82,8% SVC\n",
    "- Não usando clusters no Fare 83.4% SVC\n",
    "- [83.4% SVC] Retirando o Ticket_isnumeric\n",
    "- [84% LightGBM] Não escalando a quantidade de tickets (75% no teste)"
   ]
  },
  {
   "cell_type": "markdown",
   "metadata": {},
   "source": [
    "## LogisticRegression\n",
    "--- "
   ]
  },
  {
   "cell_type": "code",
   "execution_count": 878,
   "metadata": {},
   "outputs": [
    {
     "name": "stdout",
     "output_type": "stream",
     "text": [
      "Fitado!\n",
      "melhores parametros:  {'max_iter': 300, 'penalty': 'l2', 'solver': 'liblinear', 'tol': 0.0001}\n",
      "melhor score:  0.9001122334455668\n",
      "Accuracy: 0.900 +- (0.021)\n"
     ]
    },
    {
     "data": {
      "text/html": [
       "<div>\n",
       "<style scoped>\n",
       "    .dataframe tbody tr th:only-of-type {\n",
       "        vertical-align: middle;\n",
       "    }\n",
       "\n",
       "    .dataframe tbody tr th {\n",
       "        vertical-align: top;\n",
       "    }\n",
       "\n",
       "    .dataframe thead th {\n",
       "        text-align: right;\n",
       "    }\n",
       "</style>\n",
       "<table border=\"1\" class=\"dataframe\">\n",
       "  <thead>\n",
       "    <tr style=\"text-align: right;\">\n",
       "      <th></th>\n",
       "      <th>mean_train_score</th>\n",
       "      <th>mean_test_score</th>\n",
       "    </tr>\n",
       "  </thead>\n",
       "  <tbody>\n",
       "    <tr>\n",
       "      <th>0</th>\n",
       "      <td>0.898431</td>\n",
       "      <td>0.900112</td>\n",
       "    </tr>\n",
       "    <tr>\n",
       "      <th>21</th>\n",
       "      <td>0.898431</td>\n",
       "      <td>0.900112</td>\n",
       "    </tr>\n",
       "    <tr>\n",
       "      <th>22</th>\n",
       "      <td>0.898431</td>\n",
       "      <td>0.900112</td>\n",
       "    </tr>\n",
       "  </tbody>\n",
       "</table>\n",
       "</div>"
      ],
      "text/plain": [
       "    mean_train_score  mean_test_score\n",
       "0           0.898431         0.900112\n",
       "21          0.898431         0.900112\n",
       "22          0.898431         0.900112"
      ]
     },
     "execution_count": 878,
     "metadata": {},
     "output_type": "execute_result"
    }
   ],
   "source": [
    "from sklearn.linear_model import LogisticRegressionCV\n",
    "model = LogisticRegressionCV(random_state=7)\n",
    "\n",
    "tuning_params = {\n",
    "    'max_iter': [300,200,100,5,10,30],\n",
    "    'penalty':['l2','l1'],\n",
    "    'solver':['liblinear'],\n",
    "    'tol':[0.0001,0.001,0.01,0.1,1]\n",
    "}\n",
    "\n",
    "grid_model = GridSearchCV(model,param_grid=tuning_params,scoring='accuracy',n_jobs=-1,cv=cv,return_train_score=True)\n",
    "grid_model.fit(data_train[feature_cols], data_train['Survived'])\n",
    "print(\"Fitado!\")\n",
    "print(\"melhores parametros: \",grid_model.best_params_)\n",
    "print(\"melhor score: \",grid_model.best_score_)\n",
    "best_model = grid_model.best_estimator_\n",
    "n_scores = cross_val_score(best_model, data_train[feature_cols], data_train['Survived'], scoring='accuracy', cv=cv, n_jobs=-1, error_score='raise')\n",
    "print('Accuracy: %.3f +- (%.3f)' % (np.mean(n_scores), np.std(n_scores)))\n",
    "pd.DataFrame(grid_model.cv_results_).sort_values('rank_test_score').head(3)[['mean_train_score','mean_test_score']]"
   ]
  },
  {
   "cell_type": "markdown",
   "metadata": {},
   "source": [
    "## LightGBM\n",
    "--- "
   ]
  },
  {
   "cell_type": "code",
   "execution_count": 846,
   "metadata": {},
   "outputs": [
    {
     "name": "stdout",
     "output_type": "stream",
     "text": [
      "Fitado!\n",
      "melhores parametros:  {'learning_rate': 0.1, 'max_depth': -1, 'n_estimators': 300, 'num_leaves': 4, 'reg_lambda': 0.7}\n",
      "melhor score:  0.9640852974186308\n",
      "Accuracy: 0.964 +- (0.016)\n"
     ]
    },
    {
     "data": {
      "text/html": [
       "<div>\n",
       "<style scoped>\n",
       "    .dataframe tbody tr th:only-of-type {\n",
       "        vertical-align: middle;\n",
       "    }\n",
       "\n",
       "    .dataframe tbody tr th {\n",
       "        vertical-align: top;\n",
       "    }\n",
       "\n",
       "    .dataframe thead th {\n",
       "        text-align: right;\n",
       "    }\n",
       "</style>\n",
       "<table border=\"1\" class=\"dataframe\">\n",
       "  <thead>\n",
       "    <tr style=\"text-align: right;\">\n",
       "      <th></th>\n",
       "      <th>mean_train_score</th>\n",
       "      <th>mean_test_score</th>\n",
       "    </tr>\n",
       "  </thead>\n",
       "  <tbody>\n",
       "    <tr>\n",
       "      <th>1002</th>\n",
       "      <td>1.0</td>\n",
       "      <td>0.964085</td>\n",
       "    </tr>\n",
       "    <tr>\n",
       "      <th>702</th>\n",
       "      <td>1.0</td>\n",
       "      <td>0.964085</td>\n",
       "    </tr>\n",
       "    <tr>\n",
       "      <th>1152</th>\n",
       "      <td>1.0</td>\n",
       "      <td>0.964085</td>\n",
       "    </tr>\n",
       "  </tbody>\n",
       "</table>\n",
       "</div>"
      ],
      "text/plain": [
       "      mean_train_score  mean_test_score\n",
       "1002               1.0         0.964085\n",
       "702                1.0         0.964085\n",
       "1152               1.0         0.964085"
      ]
     },
     "execution_count": 846,
     "metadata": {},
     "output_type": "execute_result"
    }
   ],
   "source": [
    "from lightgbm import LGBMClassifier\n",
    "from sklearn.model_selection import GridSearchCV\n",
    "model = LGBMClassifier(random_state=7)\n",
    "\n",
    "tuning_params = {\n",
    "    'num_leaves': [2,3,4,8,16],\n",
    "    'n_estimators':[50,100,200,300,500],\n",
    "    'max_depth':[-1,2,4,8],\n",
    "    'learning_rate':[0.01,0.1],\n",
    "    'reg_lambda':[0.7,1,1.5,2,4,7]\n",
    "}\n",
    "\n",
    "grid_model = GridSearchCV(model,param_grid=tuning_params,scoring='accuracy',n_jobs=-1,cv=cv,return_train_score=True)\n",
    "grid_model.fit(data_train[feature_cols], data_train['Survived'])\n",
    "print(\"Fitado!\")\n",
    "print(\"melhores parametros: \",grid_model.best_params_)\n",
    "print(\"melhor score: \",grid_model.best_score_)\n",
    "best_model = grid_model.best_estimator_\n",
    "n_scores = cross_val_score(best_model, data_train[feature_cols], data_train['Survived'], scoring='accuracy', cv=cv, n_jobs=-1, error_score='raise')\n",
    "print('Accuracy: %.3f +- (%.3f)' % (np.mean(n_scores), np.std(n_scores)))\n",
    "pd.DataFrame(grid_model.cv_results_).sort_values('rank_test_score').head(3)[['mean_train_score','mean_test_score']]"
   ]
  },
  {
   "cell_type": "markdown",
   "metadata": {},
   "source": [
    "## SVC\n",
    "--- "
   ]
  },
  {
   "cell_type": "code",
   "execution_count": 852,
   "metadata": {},
   "outputs": [
    {
     "name": "stdout",
     "output_type": "stream",
     "text": [
      "Fitado!\n",
      "melhores parametros:  {'C': 5, 'degree': 1, 'kernel': 'rbf'}\n",
      "melhor score:  0.9753086419753086\n",
      "Accuracy: 0.975 +- (0.012)\n"
     ]
    },
    {
     "data": {
      "text/html": [
       "<div>\n",
       "<style scoped>\n",
       "    .dataframe tbody tr th:only-of-type {\n",
       "        vertical-align: middle;\n",
       "    }\n",
       "\n",
       "    .dataframe tbody tr th {\n",
       "        vertical-align: top;\n",
       "    }\n",
       "\n",
       "    .dataframe thead th {\n",
       "        text-align: right;\n",
       "    }\n",
       "</style>\n",
       "<table border=\"1\" class=\"dataframe\">\n",
       "  <thead>\n",
       "    <tr style=\"text-align: right;\">\n",
       "      <th></th>\n",
       "      <th>mean_train_score</th>\n",
       "      <th>mean_test_score</th>\n",
       "    </tr>\n",
       "  </thead>\n",
       "  <tbody>\n",
       "    <tr>\n",
       "      <th>69</th>\n",
       "      <td>0.998036</td>\n",
       "      <td>0.975309</td>\n",
       "    </tr>\n",
       "    <tr>\n",
       "      <th>66</th>\n",
       "      <td>0.998036</td>\n",
       "      <td>0.975309</td>\n",
       "    </tr>\n",
       "    <tr>\n",
       "      <th>63</th>\n",
       "      <td>0.998036</td>\n",
       "      <td>0.975309</td>\n",
       "    </tr>\n",
       "  </tbody>\n",
       "</table>\n",
       "</div>"
      ],
      "text/plain": [
       "    mean_train_score  mean_test_score\n",
       "69          0.998036         0.975309\n",
       "66          0.998036         0.975309\n",
       "63          0.998036         0.975309"
      ]
     },
     "execution_count": 852,
     "metadata": {},
     "output_type": "execute_result"
    }
   ],
   "source": [
    "from sklearn.svm import SVC\n",
    "\n",
    "model = SVC(random_state=7)\n",
    "\n",
    "tuning_params = {\n",
    "    'C': [0.1,0.5,1,2,3,5,7,10,20],\n",
    "    'kernel':['rbf','poly','sigmoid'],\n",
    "    'degree':[1,2,3,4]\n",
    "}\n",
    "grid_model = GridSearchCV(model,param_grid=tuning_params,scoring='accuracy',n_jobs=-1,cv=cv,return_train_score=True)\n",
    "grid_model.fit(data_train[feature_cols], data_train['Survived'])\n",
    "print(\"Fitado!\")\n",
    "print(\"melhores parametros: \",grid_model.best_params_)\n",
    "print(\"melhor score: \",grid_model.best_score_)\n",
    "best_model = grid_model.best_estimator_\n",
    "n_scores = cross_val_score(best_model, data_train[feature_cols], data_train['Survived'], scoring='accuracy', cv=cv, n_jobs=-1, error_score='raise')\n",
    "print('Accuracy: %.3f +- (%.3f)' % (np.mean(n_scores), np.std(n_scores)))\n",
    "pd.DataFrame(grid_model.cv_results_).sort_values('rank_test_score').head(3)[['mean_train_score','mean_test_score']]"
   ]
  },
  {
   "cell_type": "markdown",
   "metadata": {},
   "source": [
    "## KNN\n",
    "---"
   ]
  },
  {
   "cell_type": "code",
   "execution_count": 848,
   "metadata": {},
   "outputs": [
    {
     "name": "stdout",
     "output_type": "stream",
     "text": [
      "Fitado!\n",
      "melhores parametros:  {'n_neighbors': 3, 'weights': 'distance'}\n",
      "melhor score:  0.9349046015712682\n",
      "Accuracy: 0.935 +- (0.015)\n"
     ]
    },
    {
     "data": {
      "text/html": [
       "<div>\n",
       "<style scoped>\n",
       "    .dataframe tbody tr th:only-of-type {\n",
       "        vertical-align: middle;\n",
       "    }\n",
       "\n",
       "    .dataframe tbody tr th {\n",
       "        vertical-align: top;\n",
       "    }\n",
       "\n",
       "    .dataframe thead th {\n",
       "        text-align: right;\n",
       "    }\n",
       "</style>\n",
       "<table border=\"1\" class=\"dataframe\">\n",
       "  <thead>\n",
       "    <tr style=\"text-align: right;\">\n",
       "      <th></th>\n",
       "      <th>mean_train_score</th>\n",
       "      <th>mean_test_score</th>\n",
       "    </tr>\n",
       "  </thead>\n",
       "  <tbody>\n",
       "    <tr>\n",
       "      <th>3</th>\n",
       "      <td>1.0</td>\n",
       "      <td>0.934905</td>\n",
       "    </tr>\n",
       "    <tr>\n",
       "      <th>7</th>\n",
       "      <td>1.0</td>\n",
       "      <td>0.934905</td>\n",
       "    </tr>\n",
       "    <tr>\n",
       "      <th>9</th>\n",
       "      <td>1.0</td>\n",
       "      <td>0.934905</td>\n",
       "    </tr>\n",
       "  </tbody>\n",
       "</table>\n",
       "</div>"
      ],
      "text/plain": [
       "   mean_train_score  mean_test_score\n",
       "3               1.0         0.934905\n",
       "7               1.0         0.934905\n",
       "9               1.0         0.934905"
      ]
     },
     "execution_count": 848,
     "metadata": {},
     "output_type": "execute_result"
    }
   ],
   "source": [
    "from sklearn.neighbors import KNeighborsClassifier\n",
    "\n",
    "model = KNeighborsClassifier()\n",
    "\n",
    "tuning_params = {\n",
    "    'n_neighbors': [2,3,5,8,11,17,23],\n",
    "    'weights':['uniform','distance']\n",
    "}\n",
    "grid_model = GridSearchCV(model,param_grid=tuning_params,scoring='accuracy',n_jobs=-1,cv=cv,return_train_score=True)\n",
    "grid_model.fit(data_train[feature_cols], data_train['Survived'])\n",
    "print(\"Fitado!\")\n",
    "print(\"melhores parametros: \",grid_model.best_params_)\n",
    "print(\"melhor score: \",grid_model.best_score_)\n",
    "best_model = grid_model.best_estimator_\n",
    "n_scores = cross_val_score(best_model, data_train[feature_cols], data_train['Survived'], scoring='accuracy', cv=cv, n_jobs=-1, error_score='raise')\n",
    "print('Accuracy: %.3f +- (%.3f)' % (np.mean(n_scores), np.std(n_scores)))\n",
    "pd.DataFrame(grid_model.cv_results_).sort_values('rank_test_score').head(3)[['mean_train_score','mean_test_score']]"
   ]
  },
  {
   "cell_type": "markdown",
   "metadata": {},
   "source": [
    "# Prediction\n",
    "---"
   ]
  },
  {
   "cell_type": "code",
   "execution_count": 879,
   "metadata": {},
   "outputs": [
    {
     "data": {
      "text/plain": [
       "0    0.602871\n",
       "1    0.397129\n",
       "Name: Survived, dtype: float64"
      ]
     },
     "execution_count": 879,
     "metadata": {},
     "output_type": "execute_result"
    }
   ],
   "source": [
    "data_test['Survived'] = best_model.predict(data_test[feature_cols])\n",
    "data_test['Survived'] = data_test['Survived'].astype(int)\n",
    "data_test['Survived'].value_counts(normalize=True)"
   ]
  },
  {
   "cell_type": "code",
   "execution_count": 880,
   "metadata": {},
   "outputs": [
    {
     "data": {
      "text/html": [
       "<div>\n",
       "<style scoped>\n",
       "    .dataframe tbody tr th:only-of-type {\n",
       "        vertical-align: middle;\n",
       "    }\n",
       "\n",
       "    .dataframe tbody tr th {\n",
       "        vertical-align: top;\n",
       "    }\n",
       "\n",
       "    .dataframe thead th {\n",
       "        text-align: right;\n",
       "    }\n",
       "</style>\n",
       "<table border=\"1\" class=\"dataframe\">\n",
       "  <thead>\n",
       "    <tr style=\"text-align: right;\">\n",
       "      <th></th>\n",
       "      <th>Survived</th>\n",
       "      <th>Pclass</th>\n",
       "      <th>Sex</th>\n",
       "      <th>Age</th>\n",
       "      <th>SibSp</th>\n",
       "      <th>Parch</th>\n",
       "      <th>Fare</th>\n",
       "      <th>Embarked</th>\n",
       "      <th>Cabin_null</th>\n",
       "      <th>Tickets_isPclass</th>\n",
       "      <th>Ticket_nchar</th>\n",
       "      <th>Ticket_count</th>\n",
       "      <th>name_treatment</th>\n",
       "      <th>Name_has()</th>\n",
       "      <th>Family_count</th>\n",
       "      <th>is_alone</th>\n",
       "      <th>Fare_per_ticket</th>\n",
       "      <th>Fare_per_family</th>\n",
       "    </tr>\n",
       "    <tr>\n",
       "      <th>PassengerId</th>\n",
       "      <th></th>\n",
       "      <th></th>\n",
       "      <th></th>\n",
       "      <th></th>\n",
       "      <th></th>\n",
       "      <th></th>\n",
       "      <th></th>\n",
       "      <th></th>\n",
       "      <th></th>\n",
       "      <th></th>\n",
       "      <th></th>\n",
       "      <th></th>\n",
       "      <th></th>\n",
       "      <th></th>\n",
       "      <th></th>\n",
       "      <th></th>\n",
       "      <th></th>\n",
       "      <th></th>\n",
       "    </tr>\n",
       "  </thead>\n",
       "  <tbody>\n",
       "    <tr>\n",
       "      <th>892</th>\n",
       "      <td>0.0</td>\n",
       "      <td>3</td>\n",
       "      <td>0</td>\n",
       "      <td>2</td>\n",
       "      <td>0</td>\n",
       "      <td>0</td>\n",
       "      <td>0</td>\n",
       "      <td>Q</td>\n",
       "      <td>1</td>\n",
       "      <td>True</td>\n",
       "      <td>1</td>\n",
       "      <td>0</td>\n",
       "      <td>Mr.</td>\n",
       "      <td>False</td>\n",
       "      <td>1</td>\n",
       "      <td>1</td>\n",
       "      <td>0</td>\n",
       "      <td>0</td>\n",
       "    </tr>\n",
       "    <tr>\n",
       "      <th>893</th>\n",
       "      <td>0.0</td>\n",
       "      <td>3</td>\n",
       "      <td>1</td>\n",
       "      <td>3</td>\n",
       "      <td>1</td>\n",
       "      <td>0</td>\n",
       "      <td>0</td>\n",
       "      <td>S</td>\n",
       "      <td>1</td>\n",
       "      <td>True</td>\n",
       "      <td>1</td>\n",
       "      <td>0</td>\n",
       "      <td>Mrs.</td>\n",
       "      <td>True</td>\n",
       "      <td>2</td>\n",
       "      <td>0</td>\n",
       "      <td>0</td>\n",
       "      <td>0</td>\n",
       "    </tr>\n",
       "  </tbody>\n",
       "</table>\n",
       "</div>"
      ],
      "text/plain": [
       "             Survived  Pclass  Sex  Age  SibSp  Parch  Fare Embarked  \\\n",
       "PassengerId                                                            \n",
       "892               0.0       3    0    2      0      0     0        Q   \n",
       "893               0.0       3    1    3      1      0     0        S   \n",
       "\n",
       "             Cabin_null  Tickets_isPclass  Ticket_nchar  Ticket_count  \\\n",
       "PassengerId                                                             \n",
       "892                   1              True             1             0   \n",
       "893                   1              True             1             0   \n",
       "\n",
       "            name_treatment  Name_has()  Family_count  is_alone  \\\n",
       "PassengerId                                                      \n",
       "892                    Mr.       False             1         1   \n",
       "893                   Mrs.        True             2         0   \n",
       "\n",
       "             Fare_per_ticket  Fare_per_family  \n",
       "PassengerId                                    \n",
       "892                        0                0  \n",
       "893                        0                0  "
      ]
     },
     "execution_count": 880,
     "metadata": {},
     "output_type": "execute_result"
    }
   ],
   "source": [
    "df.loc[data_test.index,'Survived'] = data_test['Survived']\n",
    "df_test = df.loc[data_test.index,:]\n",
    "df_train = df.loc[data_train.index,:]\n",
    "df_test.head(2)"
   ]
  },
  {
   "cell_type": "code",
   "execution_count": 881,
   "metadata": {},
   "outputs": [
    {
     "data": {
      "image/png": "[encoded data removed]",
      "text/plain": [
       "<Figure size 1080x720 with 8 Axes>"
      ]
     },
     "metadata": {},
     "output_type": "display_data"
    }
   ],
   "source": [
    "f, axs = plt.subplots(4,2,figsize=(15,10))\n",
    "sns.barplot(data=df_train,x='Ticket_count',y='Survived',ax=axs[0,0])\n",
    "sns.barplot(data=df_test,x='Ticket_count',y='Survived',ax=axs[0,1])\n",
    "sns.barplot(data=df_train,x='name_treatment',y='Survived',ax=axs[1,0])\n",
    "sns.barplot(data=df_test,x='name_treatment',y='Survived',ax=axs[1,1])\n",
    "sns.barplot(data=df_train,x='Fare',y='Survived',ax=axs[2,0])\n",
    "sns.barplot(data=df_test,x='Fare',y='Survived',ax=axs[2,1])\n",
    "sns.barplot(data=df_train,x='Pclass',y='Survived',ax=axs[3,0])\n",
    "sns.barplot(data=df_test,x='Pclass',y='Survived',ax=axs[3,1])\n",
    "plt.show()"
   ]
  },
  {
   "cell_type": "code",
   "execution_count": 863,
   "metadata": {},
   "outputs": [
    {
     "data": {
      "text/html": [
       "<div>\n",
       "<style scoped>\n",
       "    .dataframe tbody tr th:only-of-type {\n",
       "        vertical-align: middle;\n",
       "    }\n",
       "\n",
       "    .dataframe tbody tr th {\n",
       "        vertical-align: top;\n",
       "    }\n",
       "\n",
       "    .dataframe thead th {\n",
       "        text-align: right;\n",
       "    }\n",
       "</style>\n",
       "<table border=\"1\" class=\"dataframe\">\n",
       "  <thead>\n",
       "    <tr style=\"text-align: right;\">\n",
       "      <th></th>\n",
       "      <th>Pclass</th>\n",
       "      <th>Name</th>\n",
       "      <th>Sex</th>\n",
       "      <th>Age</th>\n",
       "      <th>SibSp</th>\n",
       "      <th>Parch</th>\n",
       "      <th>Ticket</th>\n",
       "      <th>Fare</th>\n",
       "      <th>Cabin</th>\n",
       "      <th>Embarked</th>\n",
       "      <th>Separation</th>\n",
       "    </tr>\n",
       "    <tr>\n",
       "      <th>PassengerId</th>\n",
       "      <th></th>\n",
       "      <th></th>\n",
       "      <th></th>\n",
       "      <th></th>\n",
       "      <th></th>\n",
       "      <th></th>\n",
       "      <th></th>\n",
       "      <th></th>\n",
       "      <th></th>\n",
       "      <th></th>\n",
       "      <th></th>\n",
       "    </tr>\n",
       "  </thead>\n",
       "  <tbody>\n",
       "    <tr>\n",
       "      <th>915</th>\n",
       "      <td>1</td>\n",
       "      <td>Williams, Mr. Richard Norris II</td>\n",
       "      <td>male</td>\n",
       "      <td>21.0</td>\n",
       "      <td>0</td>\n",
       "      <td>1</td>\n",
       "      <td>PC 17597</td>\n",
       "      <td>61.3792</td>\n",
       "      <td>NaN</td>\n",
       "      <td>C</td>\n",
       "      <td>test</td>\n",
       "    </tr>\n",
       "    <tr>\n",
       "      <th>926</th>\n",
       "      <td>1</td>\n",
       "      <td>Mock, Mr. Philipp Edmund</td>\n",
       "      <td>male</td>\n",
       "      <td>30.0</td>\n",
       "      <td>1</td>\n",
       "      <td>0</td>\n",
       "      <td>13236</td>\n",
       "      <td>57.7500</td>\n",
       "      <td>C78</td>\n",
       "      <td>C</td>\n",
       "      <td>test</td>\n",
       "    </tr>\n",
       "    <tr>\n",
       "      <th>927</th>\n",
       "      <td>3</td>\n",
       "      <td>Katavelas, Mr. Vassilios (Catavelas Vassilios\")\"</td>\n",
       "      <td>male</td>\n",
       "      <td>18.5</td>\n",
       "      <td>0</td>\n",
       "      <td>0</td>\n",
       "      <td>2682</td>\n",
       "      <td>7.2292</td>\n",
       "      <td>NaN</td>\n",
       "      <td>C</td>\n",
       "      <td>test</td>\n",
       "    </tr>\n",
       "    <tr>\n",
       "      <th>931</th>\n",
       "      <td>3</td>\n",
       "      <td>Hee, Mr. Ling</td>\n",
       "      <td>male</td>\n",
       "      <td>NaN</td>\n",
       "      <td>0</td>\n",
       "      <td>0</td>\n",
       "      <td>1601</td>\n",
       "      <td>56.4958</td>\n",
       "      <td>NaN</td>\n",
       "      <td>S</td>\n",
       "      <td>test</td>\n",
       "    </tr>\n",
       "    <tr>\n",
       "      <th>960</th>\n",
       "      <td>1</td>\n",
       "      <td>Tucker, Mr. Gilbert Milligan Jr</td>\n",
       "      <td>male</td>\n",
       "      <td>31.0</td>\n",
       "      <td>0</td>\n",
       "      <td>0</td>\n",
       "      <td>2543</td>\n",
       "      <td>28.5375</td>\n",
       "      <td>C53</td>\n",
       "      <td>C</td>\n",
       "      <td>test</td>\n",
       "    </tr>\n",
       "    <tr>\n",
       "      <th>965</th>\n",
       "      <td>1</td>\n",
       "      <td>Ovies y Rodriguez, Mr. Servando</td>\n",
       "      <td>male</td>\n",
       "      <td>28.5</td>\n",
       "      <td>0</td>\n",
       "      <td>0</td>\n",
       "      <td>PC 17562</td>\n",
       "      <td>27.7208</td>\n",
       "      <td>D43</td>\n",
       "      <td>C</td>\n",
       "      <td>test</td>\n",
       "    </tr>\n",
       "    <tr>\n",
       "      <th>1036</th>\n",
       "      <td>1</td>\n",
       "      <td>Lindeberg-Lind, Mr. Erik Gustaf (Mr Edward Lin...</td>\n",
       "      <td>male</td>\n",
       "      <td>42.0</td>\n",
       "      <td>0</td>\n",
       "      <td>0</td>\n",
       "      <td>17475</td>\n",
       "      <td>26.5500</td>\n",
       "      <td>NaN</td>\n",
       "      <td>S</td>\n",
       "      <td>test</td>\n",
       "    </tr>\n",
       "    <tr>\n",
       "      <th>1069</th>\n",
       "      <td>1</td>\n",
       "      <td>Stengel, Mr. Charles Emil Henry</td>\n",
       "      <td>male</td>\n",
       "      <td>54.0</td>\n",
       "      <td>1</td>\n",
       "      <td>0</td>\n",
       "      <td>11778</td>\n",
       "      <td>55.4417</td>\n",
       "      <td>C116</td>\n",
       "      <td>C</td>\n",
       "      <td>test</td>\n",
       "    </tr>\n",
       "    <tr>\n",
       "      <th>1073</th>\n",
       "      <td>1</td>\n",
       "      <td>Compton, Mr. Alexander Taylor Jr</td>\n",
       "      <td>male</td>\n",
       "      <td>37.0</td>\n",
       "      <td>1</td>\n",
       "      <td>1</td>\n",
       "      <td>PC 17756</td>\n",
       "      <td>83.1583</td>\n",
       "      <td>E52</td>\n",
       "      <td>C</td>\n",
       "      <td>test</td>\n",
       "    </tr>\n",
       "    <tr>\n",
       "      <th>1097</th>\n",
       "      <td>1</td>\n",
       "      <td>Omont, Mr. Alfred Fernand</td>\n",
       "      <td>male</td>\n",
       "      <td>NaN</td>\n",
       "      <td>0</td>\n",
       "      <td>0</td>\n",
       "      <td>F.C. 12998</td>\n",
       "      <td>25.7417</td>\n",
       "      <td>NaN</td>\n",
       "      <td>C</td>\n",
       "      <td>test</td>\n",
       "    </tr>\n",
       "    <tr>\n",
       "      <th>1126</th>\n",
       "      <td>1</td>\n",
       "      <td>Cumings, Mr. John Bradley</td>\n",
       "      <td>male</td>\n",
       "      <td>39.0</td>\n",
       "      <td>1</td>\n",
       "      <td>0</td>\n",
       "      <td>PC 17599</td>\n",
       "      <td>71.2833</td>\n",
       "      <td>C85</td>\n",
       "      <td>C</td>\n",
       "      <td>test</td>\n",
       "    </tr>\n",
       "    <tr>\n",
       "      <th>1128</th>\n",
       "      <td>1</td>\n",
       "      <td>Warren, Mr. Frank Manley</td>\n",
       "      <td>male</td>\n",
       "      <td>64.0</td>\n",
       "      <td>1</td>\n",
       "      <td>0</td>\n",
       "      <td>110813</td>\n",
       "      <td>75.2500</td>\n",
       "      <td>D37</td>\n",
       "      <td>C</td>\n",
       "      <td>test</td>\n",
       "    </tr>\n",
       "    <tr>\n",
       "      <th>1144</th>\n",
       "      <td>1</td>\n",
       "      <td>Clark, Mr. Walter Miller</td>\n",
       "      <td>male</td>\n",
       "      <td>27.0</td>\n",
       "      <td>1</td>\n",
       "      <td>0</td>\n",
       "      <td>13508</td>\n",
       "      <td>136.7792</td>\n",
       "      <td>C89</td>\n",
       "      <td>C</td>\n",
       "      <td>test</td>\n",
       "    </tr>\n",
       "    <tr>\n",
       "      <th>1198</th>\n",
       "      <td>1</td>\n",
       "      <td>Allison, Mr. Hudson Joshua Creighton</td>\n",
       "      <td>male</td>\n",
       "      <td>30.0</td>\n",
       "      <td>1</td>\n",
       "      <td>2</td>\n",
       "      <td>113781</td>\n",
       "      <td>151.5500</td>\n",
       "      <td>C22 C26</td>\n",
       "      <td>S</td>\n",
       "      <td>test</td>\n",
       "    </tr>\n",
       "    <tr>\n",
       "      <th>1215</th>\n",
       "      <td>1</td>\n",
       "      <td>Rowe, Mr. Alfred G</td>\n",
       "      <td>male</td>\n",
       "      <td>33.0</td>\n",
       "      <td>0</td>\n",
       "      <td>0</td>\n",
       "      <td>113790</td>\n",
       "      <td>26.5500</td>\n",
       "      <td>NaN</td>\n",
       "      <td>S</td>\n",
       "      <td>test</td>\n",
       "    </tr>\n",
       "    <tr>\n",
       "      <th>1227</th>\n",
       "      <td>1</td>\n",
       "      <td>Maguire, Mr. John Edward</td>\n",
       "      <td>male</td>\n",
       "      <td>30.0</td>\n",
       "      <td>0</td>\n",
       "      <td>0</td>\n",
       "      <td>110469</td>\n",
       "      <td>26.0000</td>\n",
       "      <td>C106</td>\n",
       "      <td>S</td>\n",
       "      <td>test</td>\n",
       "    </tr>\n",
       "    <tr>\n",
       "      <th>1297</th>\n",
       "      <td>2</td>\n",
       "      <td>Nourney, Mr. Alfred (Baron von Drachstedt\")\"</td>\n",
       "      <td>male</td>\n",
       "      <td>20.0</td>\n",
       "      <td>0</td>\n",
       "      <td>0</td>\n",
       "      <td>SC/PARIS 2166</td>\n",
       "      <td>13.8625</td>\n",
       "      <td>D38</td>\n",
       "      <td>C</td>\n",
       "      <td>test</td>\n",
       "    </tr>\n",
       "  </tbody>\n",
       "</table>\n",
       "</div>"
      ],
      "text/plain": [
       "             Pclass                                               Name   Sex  \\\n",
       "PassengerId                                                                    \n",
       "915               1                    Williams, Mr. Richard Norris II  male   \n",
       "926               1                           Mock, Mr. Philipp Edmund  male   \n",
       "927               3   Katavelas, Mr. Vassilios (Catavelas Vassilios\")\"  male   \n",
       "931               3                                      Hee, Mr. Ling  male   \n",
       "960               1                    Tucker, Mr. Gilbert Milligan Jr  male   \n",
       "965               1                    Ovies y Rodriguez, Mr. Servando  male   \n",
       "1036              1  Lindeberg-Lind, Mr. Erik Gustaf (Mr Edward Lin...  male   \n",
       "1069              1                    Stengel, Mr. Charles Emil Henry  male   \n",
       "1073              1                   Compton, Mr. Alexander Taylor Jr  male   \n",
       "1097              1                          Omont, Mr. Alfred Fernand  male   \n",
       "1126              1                          Cumings, Mr. John Bradley  male   \n",
       "1128              1                           Warren, Mr. Frank Manley  male   \n",
       "1144              1                           Clark, Mr. Walter Miller  male   \n",
       "1198              1               Allison, Mr. Hudson Joshua Creighton  male   \n",
       "1215              1                                 Rowe, Mr. Alfred G  male   \n",
       "1227              1                           Maguire, Mr. John Edward  male   \n",
       "1297              2       Nourney, Mr. Alfred (Baron von Drachstedt\")\"  male   \n",
       "\n",
       "              Age  SibSp  Parch         Ticket      Fare    Cabin Embarked  \\\n",
       "PassengerId                                                                  \n",
       "915          21.0      0      1       PC 17597   61.3792      NaN        C   \n",
       "926          30.0      1      0          13236   57.7500      C78        C   \n",
       "927          18.5      0      0           2682    7.2292      NaN        C   \n",
       "931           NaN      0      0           1601   56.4958      NaN        S   \n",
       "960          31.0      0      0           2543   28.5375      C53        C   \n",
       "965          28.5      0      0       PC 17562   27.7208      D43        C   \n",
       "1036         42.0      0      0          17475   26.5500      NaN        S   \n",
       "1069         54.0      1      0          11778   55.4417     C116        C   \n",
       "1073         37.0      1      1       PC 17756   83.1583      E52        C   \n",
       "1097          NaN      0      0     F.C. 12998   25.7417      NaN        C   \n",
       "1126         39.0      1      0       PC 17599   71.2833      C85        C   \n",
       "1128         64.0      1      0         110813   75.2500      D37        C   \n",
       "1144         27.0      1      0          13508  136.7792      C89        C   \n",
       "1198         30.0      1      2         113781  151.5500  C22 C26        S   \n",
       "1215         33.0      0      0         113790   26.5500      NaN        S   \n",
       "1227         30.0      0      0         110469   26.0000     C106        S   \n",
       "1297         20.0      0      0  SC/PARIS 2166   13.8625      D38        C   \n",
       "\n",
       "            Separation  \n",
       "PassengerId             \n",
       "915               test  \n",
       "926               test  \n",
       "927               test  \n",
       "931               test  \n",
       "960               test  \n",
       "965               test  \n",
       "1036              test  \n",
       "1069              test  \n",
       "1073              test  \n",
       "1097              test  \n",
       "1126              test  \n",
       "1128              test  \n",
       "1144              test  \n",
       "1198              test  \n",
       "1215              test  \n",
       "1227              test  \n",
       "1297              test  "
      ]
     },
     "execution_count": 863,
     "metadata": {},
     "output_type": "execute_result"
    }
   ],
   "source": [
    "test_set.set_index(\"PassengerId\").loc[df_test.query(\"name_treatment == 'Mr.' & Survived == 1\").index,:]"
   ]
  },
  {
   "cell_type": "code",
   "execution_count": 882,
   "metadata": {},
   "outputs": [],
   "source": [
    "data_test[['Survived']].reset_index().to_csv(\"Submissions/\" + str(datetime.today().date()) + \" LogisticRegression.csv\",index=False)"
   ]
  },
  {
   "cell_type": "code",
   "execution_count": 302,
   "metadata": {},
   "outputs": [
    {
     "data": {
      "text/plain": [
       "0.0    0.616162\n",
       "1.0    0.383838\n",
       "Name: Survived, dtype: float64"
      ]
     },
     "execution_count": 302,
     "metadata": {},
     "output_type": "execute_result"
    }
   ],
   "source": [
    "data_train['Survived'].value_counts(normalize=True)"
   ]
  },
  {
   "cell_type": "code",
   "execution_count": null,
   "metadata": {},
   "outputs": [],
   "source": []
  }
 ],
 "metadata": {
  "kernelspec": {
   "display_name": "Python 3",
   "language": "python",
   "name": "python3"
  },
  "language_info": {
   "codemirror_mode": {
    "name": "ipython",
    "version": 3
   },
   "file_extension": ".py",
   "mimetype": "text/x-python",
   "name": "python",
   "nbconvert_exporter": "python",
   "pygments_lexer": "ipython3",
   "version": "3.7.4"
  },
  "toc": {
   "base_numbering": 1,
   "nav_menu": {},
   "number_sections": true,
   "sideBar": true,
   "skip_h1_title": false,
   "title_cell": "Table of Contents",
   "title_sidebar": "Contents",
   "toc_cell": false,
   "toc_position": {},
   "toc_section_display": true,
   "toc_window_display": false
  }
 },
 "nbformat": 4,
 "nbformat_minor": 2
}
